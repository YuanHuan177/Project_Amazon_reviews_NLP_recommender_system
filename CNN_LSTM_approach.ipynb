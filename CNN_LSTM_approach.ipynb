{
 "cells": [
  {
   "cell_type": "markdown",
   "metadata": {
    "colab_type": "text",
    "id": "HqiU7dAdI2Ad"
   },
   "source": [
    "## Constructing the Dataset \n",
    "#### Reading the data from two different JSON files and combing the required metatadata with the reviews and score data"
   ]
  },
  {
   "cell_type": "code",
   "execution_count": null,
   "metadata": {
    "colab": {},
    "colab_type": "code",
    "id": "b3GyWycXI2Ae",
    "outputId": "676c7a7d-fc27-44fb-d161-9ade71a159f2"
   },
   "outputs": [
    {
     "name": "stdout",
     "output_type": "stream",
     "text": [
      "Reviews left in reviews dict: 5, Products sitting in products dict: 0, Total data merged: 0\n",
      "Reviews left in reviews dict: 184, Products sitting in products dict: 92854, Total data merged: 351406\n",
      "Reviews left in reviews dict: 857, Products sitting in products dict: 78151, Total data merged: 781434\n",
      "Reviews remaining in reviews dict: 1638\n",
      "Irrelevant products sitting in products dict: 68830\n",
      "Total relevant reviews merged with the products metadata: 1048590\n",
      "\n",
      "Example of a full observation: {'reviewerID': 'AH3QC2PC1VTGP', 'asin': '0000143561', 'reviewerName': 'Great Home Cook', 'helpful': [2, 4], 'reviewText': \"I have to admit that I am a fan of Giada's cooking and I had great expectations when I ordered this set. They were however, crushed. While I still love Giada's cooking, this set is just a way for Food Network to make money. They really cheated with these DVD's. All they have are the video from the show, no text recipes, no link to the on line shows and no computer support. They play in Windows media player but the set does not contain the recipes. You can get more by taping the shows and then going to the web to download recipes. Another disappointment is the so so transfer quality to DVD. Perhaps I've been spoiled by HD and Tivo but the older shows I've recorded have had better playback quality than the episodes on the DVD's. It is in the old 480p but the quality of the transfer to DVD is dark and about the same quality as your average old VHS tape, not DVD quality. I get the impression Food Network got cheap and subbed out the DVD transfer to the lowest bidder (China?) and it shows.I could watch Giada read the dictionary and her cooking is really first rate. But, that's all you get is watching Giada. Thank god she is easy to understand and her recipes are easy to follow. But to get consistent results on some of the dishes, you should search the web and find the hard copies.  While Giada herself is great, this set is a waste of money. You're better off recording the shows and going to the web to get the recipes you want or, better yet, just stick with her cookbooks which are all first rate and worlds above this cheap presentation.\", 'overall': 2.0, 'summary': \"Don't waste your money\", 'title': 'Everyday Italian (with Giada de Laurentiis), Volume 1 (3 Pack): Italian Classics, Parties, Holidays'}\n",
      "\n",
      "Total time elapsed: 113.87638187408447 seconds\n"
     ]
    }
   ],
   "source": [
    "import threading \n",
    "import time \n",
    "import pandas as pd \n",
    "\n",
    "#Function that parses reviews data from json file\n",
    "def _extract_reviews(path_name,reviews,reviews_lock,products,products_lock,queued,queued_lock,merged_data,merged_data_lock):\n",
    "    \n",
    "    with open(path_name, 'r') as file:\n",
    "        \n",
    "        previous_asin = 'alpha'\n",
    "        \n",
    "        for line in file:\n",
    "            if len(merged_data) <  1048576: #650000\n",
    "                #Evaluating an observation that is in json would convert it to a dictionary in python\n",
    "                review_dict = eval(line)\n",
    "                #Extracting the unique identifier for each movie/tv shows title\n",
    "                asin = review_dict.get('asin')\n",
    "                \n",
    "                #if asin is missing for a title , dump that data and keep parsing \n",
    "                if asin == None:\n",
    "                    del line \n",
    "                    del review_dict\n",
    "                    del asin \n",
    "                    continue \n",
    "                #if the asin for the observation already exists as a key in the reviews dictionary\n",
    "                #simply append the dictionary for that observation in the list associated with the asin key\n",
    "                if asin in reviews:\n",
    "                    with reviews_lock:\n",
    "                        reviews[asin].append( review_dict )\n",
    "                #if asin doesn't exist as a key, make a new one and associate a list to it with the observation dict        \n",
    "                else:\n",
    "                    with reviews_lock:\n",
    "                        reviews[asin] = [ review_dict ] \n",
    "                        \n",
    "                #This means we've moved on to the reviews for the next product due to how all the\n",
    "                #reviews are structured in the json file\n",
    "                if previous_asin != asin:\n",
    "                    #Check if product thread has found the metada for that title while parsing the product data file\n",
    "                    if previous_asin in products:\n",
    "                        \n",
    "                        product_metadata = products.get( previous_asin )\n",
    "                        \n",
    "                        with products_lock:\n",
    "                            del products[previous_asin]\n",
    "                        \n",
    "                        for review in reviews[previous_asin]:\n",
    "                            full_review_dict = _build_full_review_dict( review, product_metadata )\n",
    "                            with merged_data_lock:\n",
    "                                merged_data.append( full_review_dict )\n",
    "                            del review\n",
    "                            del full_review_dict\n",
    "                            \n",
    "                        with reviews_lock:\n",
    "                            del reviews[previous_asin]\n",
    "                        \n",
    "                        del product_metadata\n",
    "                    #If not then simply add that product asin to the queued dictionary to be parsed when product asin is found     \n",
    "                    else:\n",
    "                        \n",
    "                        with queued_lock:\n",
    "                            queued.add( previous_asin )\n",
    "                            \n",
    "                            \n",
    "                previous_asin = asin\n",
    "                #clean up memory\n",
    "                del line \n",
    "                del review_dict\n",
    "                \n",
    "            else:\n",
    "                break \n",
    "                        \n",
    "                \n",
    "#Function that parses products metadata from json file\n",
    "def _extract_product_meta(path_name,reviews,reviews_lock,products,products_lock,queued,queued_lock,merged_data,merged_data_lock):\n",
    "    \n",
    "    with open(path_name, 'r') as file:\n",
    "        \n",
    "        for line in file:\n",
    "            #Limiting total data to 650,000 observations \n",
    "            if len(merged_data) < 1048576: #650000\n",
    "                product_dict = eval(line)\n",
    "                \n",
    "                asin = product_dict.get('asin')\n",
    "                if asin == None or product_dict.get('title') == None:\n",
    "                    del line \n",
    "                    del product_dict\n",
    "                    del asin \n",
    "                    continue \n",
    "                    \n",
    "                categories = product_dict.get('categories')\n",
    "                #Checking product categories exist and are 'movies' or 'tv' or 'movies & tv'\n",
    "                if categories != None:\n",
    "                    \n",
    "                    sanitized_categories = [ c.lower() for c in categories[0] ]\n",
    "                    \n",
    "                    if 'movies' not in sanitized_categories and \\\n",
    "                    'tv' not in sanitized_categories and \\\n",
    "                    'movies & tv' not in sanitized_categories:\n",
    "                        del line \n",
    "                        del product_dict\n",
    "                        del asin \n",
    "                        del categories \n",
    "                        del sanitized_categories\n",
    "                        continue \n",
    "                    else:\n",
    "                        del categories \n",
    "                        del sanitized_categories \n",
    "                #If the reviews for the product have already been parsed awaiting metada , extract and build a full observation \n",
    "                #with product reviews and title \n",
    "                if asin in queued:\n",
    "                    with queued_lock:\n",
    "                        queued.remove(asin)\n",
    "                        \n",
    "                    for review in reviews[asin]:\n",
    "                        full_review_dict = _build_full_review_dict( review, product_dict )\n",
    "                        \n",
    "                        with merged_data_lock:\n",
    "                            merged_data.append(full_review_dict)\n",
    "                            \n",
    "                        del review \n",
    "                        del full_review_dict\n",
    "                            \n",
    "                    with reviews_lock:\n",
    "                        del reviews[asin]\n",
    "                        \n",
    "                #If the reviews for this product have not been parsed , put the unique identifier for this product in\n",
    "                #the product dictionary which will be extracted when they are parsed by the review thread \n",
    "                else:\n",
    "                    with products_lock:\n",
    "                        products[asin] = { 'title': product_dict.get('title') }\n",
    "                        \n",
    "                #clean up memory        \n",
    "                del line \n",
    "                del product_dict\n",
    "                del asin \n",
    "                \n",
    "            else:\n",
    "                break\n",
    "                \n",
    "#Given the observations as two deparate dicitonaries, combines them into one using relevant information                 \n",
    "def _build_full_review_dict( review_dict, product_meta_dict ):\n",
    "    full = {}\n",
    "    full['reviewerID'] = review_dict.get('reviewerID')\n",
    "    full['asin'] = review_dict.get('asin')\n",
    "    full['reviewerName'] = review_dict.get('reviewerName')\n",
    "    full['helpful'] = review_dict.get('helpful')\n",
    "    full['reviewText'] = review_dict.get('reviewText')\n",
    "    full['overall'] = review_dict.get('overall')\n",
    "    full['summary'] = review_dict.get('summary')\n",
    "    full['title'] = product_meta_dict.get('title')\n",
    "    return full \n",
    "\n",
    "\n",
    "reviews = {}\n",
    "reviews_lock = threading.Lock()\n",
    "\n",
    "products = {}\n",
    "products_lock = threading.Lock()\n",
    "\n",
    "queued = set()\n",
    "queued_lock = threading.Lock()\n",
    "\n",
    "merged_data = []\n",
    "merged_data_lock = threading.Lock()\n",
    "\n",
    "#Initialize thread that will parse reviews \n",
    "reviews_thread = threading.Thread( target = _extract_reviews , \n",
    "                                 args = ( 'reviews_Movies_and_TV.json', \n",
    "                                        reviews,reviews_lock,products,products_lock,queued,queued_lock,merged_data,merged_data_lock) \n",
    "                                 )\n",
    "#Initialize thread that will parse products \n",
    "products_thread = threading.Thread( target = _extract_product_meta , \n",
    "                                 args = ( 'meta_Movies_and_TV.json', \n",
    "                                        reviews,reviews_lock,products,products_lock,queued,queued_lock,merged_data,merged_data_lock) \n",
    "                                 )\n",
    "\n",
    "#Start timer \n",
    "start = time.time()\n",
    "#Start threads\n",
    "reviews_thread.start()\n",
    "products_thread.start()\n",
    "#Momentarily print progress report to the console \n",
    "counter = 0\n",
    "while reviews_thread.isAlive() or products_thread.isAlive():\n",
    "    if counter % 3000000 == 0:\n",
    "        print ('Reviews left in reviews dict: ' + str(len(reviews)) + ', Products sitting in products dict: ' + str(len(products)) + ', Total data merged: ' + str(len(merged_data)))\n",
    "        counter += 1\n",
    "        pass\n",
    "    else:\n",
    "        counter += 1\n",
    "        pass\n",
    "    \n",
    "#Calculate time threads are done running \n",
    "end = time.time()\n",
    "#Print final report including total time elapsed \n",
    "print('Reviews remaining in reviews dict: ' + str(len(reviews)))\n",
    "print('Irrelevant products sitting in products dict: ' + str(len(products)))\n",
    "print('Total relevant reviews merged with the products metadata: ' + str(len(merged_data)))\n",
    "print('\\nExample of a full observation: ' + str(merged_data[0]) + '\\n')\n",
    "\n",
    "\n",
    "time_elapsed = end - start\n",
    "\n",
    "print('Total time elapsed: ' + str(time_elapsed) + ' seconds')"
   ]
  },
  {
   "cell_type": "code",
   "execution_count": null,
   "metadata": {
    "colab": {},
    "colab_type": "code",
    "id": "HKIsHlqjI2Ai"
   },
   "outputs": [],
   "source": [
    "#Clean up\n",
    "del reviews, products, queued\n",
    "#Convert to pandas df\n",
    "data = pd.DataFrame(merged_data)\n",
    "#Save data to csv file on hard disk \n",
    "data.to_csv('amazon_movies_and_tv_reviewsM.csv')\n",
    "#Clean up\n",
    "del merged_data"
   ]
  },
  {
   "cell_type": "code",
   "execution_count": null,
   "metadata": {
    "colab": {},
    "colab_type": "code",
    "id": "ChDsVYByI2Ak"
   },
   "outputs": [],
   "source": [
    "#Loading the data from the csv file to avoid having to parse it from JSON again and again\n",
    "import warnings\n",
    "warnings.filterwarnings('ignore')\n",
    "import pandas as pd \n",
    "import numpy as np\n",
    "data = pd.read_csv('amazon_movies_and_tv_reviewsM.csv')"
   ]
  },
  {
   "cell_type": "code",
   "execution_count": null,
   "metadata": {
    "colab": {},
    "colab_type": "code",
    "id": "6uDWBJP0I2An",
    "outputId": "3e79f555-9899-44ff-8588-4d7e90749bf2"
   },
   "outputs": [
    {
     "name": "stdout",
     "output_type": "stream",
     "text": [
      "<class 'pandas.core.frame.DataFrame'>\n",
      "Int64Index: 1046027 entries, 0 to 1048589\n",
      "Data columns (total 8 columns):\n",
      "reviewerID      1046027 non-null object\n",
      "asin            1046027 non-null object\n",
      "reviewerName    1046027 non-null object\n",
      "helpful         1046027 non-null object\n",
      "reviewText      1046027 non-null object\n",
      "overall         1046027 non-null float64\n",
      "summary         1046027 non-null object\n",
      "title           1046027 non-null object\n",
      "dtypes: float64(1), object(7)\n",
      "memory usage: 71.8+ MB\n"
     ]
    }
   ],
   "source": [
    "#Dropping columsn with any null values\n",
    "data = data.dropna()\\\n",
    ".drop('Unnamed: 0',axis=1)\n",
    "data.info()"
   ]
  },
  {
   "cell_type": "code",
   "execution_count": null,
   "metadata": {
    "colab": {},
    "colab_type": "code",
    "id": "5tffVhqFI2Ap",
    "outputId": "4ec58d2f-bbf1-4773-e9da-aae1225a3fe5"
   },
   "outputs": [
    {
     "data": {
      "text/html": [
       "<div>\n",
       "<style scoped>\n",
       "    .dataframe tbody tr th:only-of-type {\n",
       "        vertical-align: middle;\n",
       "    }\n",
       "\n",
       "    .dataframe tbody tr th {\n",
       "        vertical-align: top;\n",
       "    }\n",
       "\n",
       "    .dataframe thead th {\n",
       "        text-align: right;\n",
       "    }\n",
       "</style>\n",
       "<table border=\"1\" class=\"dataframe\">\n",
       "  <thead>\n",
       "    <tr style=\"text-align: right;\">\n",
       "      <th></th>\n",
       "      <th>reviewerID</th>\n",
       "      <th>asin</th>\n",
       "      <th>reviewerName</th>\n",
       "      <th>helpful</th>\n",
       "      <th>reviewText</th>\n",
       "      <th>overall</th>\n",
       "      <th>summary</th>\n",
       "      <th>title</th>\n",
       "    </tr>\n",
       "  </thead>\n",
       "  <tbody>\n",
       "    <tr>\n",
       "      <th>0</th>\n",
       "      <td>AH3QC2PC1VTGP</td>\n",
       "      <td>0000143561</td>\n",
       "      <td>Great Home Cook</td>\n",
       "      <td>[2, 4]</td>\n",
       "      <td>I have to admit that I am a fan of Giada's coo...</td>\n",
       "      <td>2.0</td>\n",
       "      <td>Don't waste your money</td>\n",
       "      <td>Everyday Italian (with Giada de Laurentiis), V...</td>\n",
       "    </tr>\n",
       "    <tr>\n",
       "      <th>1</th>\n",
       "      <td>A1CV1WROP5KTTW</td>\n",
       "      <td>0000589012</td>\n",
       "      <td>Alberta M. Worth \"BertieMWorth\"</td>\n",
       "      <td>[2, 2]</td>\n",
       "      <td>I have read many books and literature written ...</td>\n",
       "      <td>5.0</td>\n",
       "      <td>\"Why Don't They Just Qiut\" DVD Roundtable Disc...</td>\n",
       "      <td>Why Don't They Just Quit? DVD Roundtable Discu...</td>\n",
       "    </tr>\n",
       "    <tr>\n",
       "      <th>2</th>\n",
       "      <td>AP57WZ2X4G0AA</td>\n",
       "      <td>0000589012</td>\n",
       "      <td>Amy Arnett-German</td>\n",
       "      <td>[0, 1]</td>\n",
       "      <td>The information is good, but the presentation ...</td>\n",
       "      <td>2.0</td>\n",
       "      <td>Boring</td>\n",
       "      <td>Why Don't They Just Quit? DVD Roundtable Discu...</td>\n",
       "    </tr>\n",
       "    <tr>\n",
       "      <th>3</th>\n",
       "      <td>A3NMBJ2LCRCATT</td>\n",
       "      <td>0000589012</td>\n",
       "      <td>Carole J. Hopkins</td>\n",
       "      <td>[1, 1]</td>\n",
       "      <td>I have read the original Why Don't They Just Q...</td>\n",
       "      <td>5.0</td>\n",
       "      <td>Very helpful</td>\n",
       "      <td>Why Don't They Just Quit? DVD Roundtable Discu...</td>\n",
       "    </tr>\n",
       "    <tr>\n",
       "      <th>4</th>\n",
       "      <td>A5Y15SAOMX6XA</td>\n",
       "      <td>0000589012</td>\n",
       "      <td>Catherine E. Wetzler</td>\n",
       "      <td>[12, 16]</td>\n",
       "      <td>I, too, purchased this to use with my patients...</td>\n",
       "      <td>2.0</td>\n",
       "      <td>C+ At Best</td>\n",
       "      <td>Why Don't They Just Quit? DVD Roundtable Discu...</td>\n",
       "    </tr>\n",
       "  </tbody>\n",
       "</table>\n",
       "</div>"
      ],
      "text/plain": [
       "       reviewerID        asin                     reviewerName   helpful  \\\n",
       "0   AH3QC2PC1VTGP  0000143561                  Great Home Cook    [2, 4]   \n",
       "1  A1CV1WROP5KTTW  0000589012  Alberta M. Worth \"BertieMWorth\"    [2, 2]   \n",
       "2   AP57WZ2X4G0AA  0000589012                Amy Arnett-German    [0, 1]   \n",
       "3  A3NMBJ2LCRCATT  0000589012                Carole J. Hopkins    [1, 1]   \n",
       "4   A5Y15SAOMX6XA  0000589012             Catherine E. Wetzler  [12, 16]   \n",
       "\n",
       "                                          reviewText  overall  \\\n",
       "0  I have to admit that I am a fan of Giada's coo...      2.0   \n",
       "1  I have read many books and literature written ...      5.0   \n",
       "2  The information is good, but the presentation ...      2.0   \n",
       "3  I have read the original Why Don't They Just Q...      5.0   \n",
       "4  I, too, purchased this to use with my patients...      2.0   \n",
       "\n",
       "                                             summary  \\\n",
       "0                             Don't waste your money   \n",
       "1  \"Why Don't They Just Qiut\" DVD Roundtable Disc...   \n",
       "2                                             Boring   \n",
       "3                                       Very helpful   \n",
       "4                                         C+ At Best   \n",
       "\n",
       "                                               title  \n",
       "0  Everyday Italian (with Giada de Laurentiis), V...  \n",
       "1  Why Don't They Just Quit? DVD Roundtable Discu...  \n",
       "2  Why Don't They Just Quit? DVD Roundtable Discu...  \n",
       "3  Why Don't They Just Quit? DVD Roundtable Discu...  \n",
       "4  Why Don't They Just Quit? DVD Roundtable Discu...  "
      ]
     },
     "execution_count": 3,
     "metadata": {
      "tags": []
     },
     "output_type": "execute_result"
    }
   ],
   "source": [
    "data.head(5)"
   ]
  },
  {
   "cell_type": "code",
   "execution_count": null,
   "metadata": {
    "colab": {},
    "colab_type": "code",
    "id": "mQBrq5RnI2As",
    "outputId": "4cb71a1c-d754-46bb-c971-7ee59fd30a5e"
   },
   "outputs": [
    {
     "data": {
      "text/html": [
       "<div>\n",
       "<style scoped>\n",
       "    .dataframe tbody tr th:only-of-type {\n",
       "        vertical-align: middle;\n",
       "    }\n",
       "\n",
       "    .dataframe tbody tr th {\n",
       "        vertical-align: top;\n",
       "    }\n",
       "\n",
       "    .dataframe thead th {\n",
       "        text-align: right;\n",
       "    }\n",
       "</style>\n",
       "<table border=\"1\" class=\"dataframe\">\n",
       "  <thead>\n",
       "    <tr style=\"text-align: right;\">\n",
       "      <th></th>\n",
       "      <th>reviewerID</th>\n",
       "      <th>asin</th>\n",
       "      <th>reviewerName</th>\n",
       "      <th>helpful</th>\n",
       "      <th>overall</th>\n",
       "      <th>title</th>\n",
       "      <th>review_text</th>\n",
       "    </tr>\n",
       "  </thead>\n",
       "  <tbody>\n",
       "    <tr>\n",
       "      <th>0</th>\n",
       "      <td>AH3QC2PC1VTGP</td>\n",
       "      <td>0000143561</td>\n",
       "      <td>Great Home Cook</td>\n",
       "      <td>[2, 4]</td>\n",
       "      <td>2.0</td>\n",
       "      <td>Everyday Italian (with Giada de Laurentiis), V...</td>\n",
       "      <td>I have to admit that I am a fan of Giada's coo...</td>\n",
       "    </tr>\n",
       "    <tr>\n",
       "      <th>1</th>\n",
       "      <td>A1CV1WROP5KTTW</td>\n",
       "      <td>0000589012</td>\n",
       "      <td>Alberta M. Worth \"BertieMWorth\"</td>\n",
       "      <td>[2, 2]</td>\n",
       "      <td>5.0</td>\n",
       "      <td>Why Don't They Just Quit? DVD Roundtable Discu...</td>\n",
       "      <td>I have read many books and literature written ...</td>\n",
       "    </tr>\n",
       "    <tr>\n",
       "      <th>2</th>\n",
       "      <td>AP57WZ2X4G0AA</td>\n",
       "      <td>0000589012</td>\n",
       "      <td>Amy Arnett-German</td>\n",
       "      <td>[0, 1]</td>\n",
       "      <td>2.0</td>\n",
       "      <td>Why Don't They Just Quit? DVD Roundtable Discu...</td>\n",
       "      <td>The information is good, but the presentation ...</td>\n",
       "    </tr>\n",
       "    <tr>\n",
       "      <th>3</th>\n",
       "      <td>A3NMBJ2LCRCATT</td>\n",
       "      <td>0000589012</td>\n",
       "      <td>Carole J. Hopkins</td>\n",
       "      <td>[1, 1]</td>\n",
       "      <td>5.0</td>\n",
       "      <td>Why Don't They Just Quit? DVD Roundtable Discu...</td>\n",
       "      <td>I have read the original Why Don't They Just Q...</td>\n",
       "    </tr>\n",
       "    <tr>\n",
       "      <th>4</th>\n",
       "      <td>A5Y15SAOMX6XA</td>\n",
       "      <td>0000589012</td>\n",
       "      <td>Catherine E. Wetzler</td>\n",
       "      <td>[12, 16]</td>\n",
       "      <td>2.0</td>\n",
       "      <td>Why Don't They Just Quit? DVD Roundtable Discu...</td>\n",
       "      <td>I, too, purchased this to use with my patients...</td>\n",
       "    </tr>\n",
       "  </tbody>\n",
       "</table>\n",
       "</div>"
      ],
      "text/plain": [
       "       reviewerID        asin                     reviewerName   helpful  \\\n",
       "0   AH3QC2PC1VTGP  0000143561                  Great Home Cook    [2, 4]   \n",
       "1  A1CV1WROP5KTTW  0000589012  Alberta M. Worth \"BertieMWorth\"    [2, 2]   \n",
       "2   AP57WZ2X4G0AA  0000589012                Amy Arnett-German    [0, 1]   \n",
       "3  A3NMBJ2LCRCATT  0000589012                Carole J. Hopkins    [1, 1]   \n",
       "4   A5Y15SAOMX6XA  0000589012             Catherine E. Wetzler  [12, 16]   \n",
       "\n",
       "   overall                                              title  \\\n",
       "0      2.0  Everyday Italian (with Giada de Laurentiis), V...   \n",
       "1      5.0  Why Don't They Just Quit? DVD Roundtable Discu...   \n",
       "2      2.0  Why Don't They Just Quit? DVD Roundtable Discu...   \n",
       "3      5.0  Why Don't They Just Quit? DVD Roundtable Discu...   \n",
       "4      2.0  Why Don't They Just Quit? DVD Roundtable Discu...   \n",
       "\n",
       "                                         review_text  \n",
       "0  I have to admit that I am a fan of Giada's coo...  \n",
       "1  I have read many books and literature written ...  \n",
       "2  The information is good, but the presentation ...  \n",
       "3  I have read the original Why Don't They Just Q...  \n",
       "4  I, too, purchased this to use with my patients...  "
      ]
     },
     "execution_count": 4,
     "metadata": {
      "tags": []
     },
     "output_type": "execute_result"
    }
   ],
   "source": [
    "#Combining review text and summary columns into one column called 'review_text\n",
    "data['review_text'] = data['reviewText'] + ' . ' + data['summary']\n",
    "del data['reviewText']\n",
    "del data['summary']\n",
    "data.head()"
   ]
  },
  {
   "cell_type": "markdown",
   "metadata": {
    "colab_type": "text",
    "id": "FKgSj8jIFKGR"
   },
   "source": [
    "## Preprocessing Text Data \n",
    "#### Preprocessing methods applied to text reviews before any kind of modelling. \n",
    "\n",
    "<br>\n",
    "\n",
    "*   Lower Case -> lower case everything for consistency\n",
    "*   Expand Contractions -> 'don't' becomes 'do not', 'y'all' becomes 'you all' ...etc\n",
    "*   Split Alphanum -> Eg: '1little piggy' becomes '1 little piggy'\n",
    "*   Strip Multiple White Spaces -> 'too\\s\\s\\sfar' becomes 'too\\sfar'\n",
    "*   Strip Non Alphanum -> Get rid of special characters like '$','@' ...etc \n",
    "*   Strip Numeric -> Remove numerical characters. This is applied after separating alphanums so we can salvage the non numeric components without having to throw the entire word away\n",
    "*   Strip Punctuation -> 'Bond, James Bond' becomes 'Bond James Bond'\n",
    "*   Strip Tags -> Strip away and lingering HTML Tags in our data\n",
    "\n",
    "<br>\n",
    "\n",
    "Notice I'm not using popular text normalizing methods such as stemming or lemmatizing since they are not usually used in conjuction with deep learning methods which is our goal here."
   ]
  },
  {
   "cell_type": "code",
   "execution_count": null,
   "metadata": {
    "colab": {},
    "colab_type": "code",
    "id": "1POecPB2I2Au"
   },
   "outputs": [],
   "source": [
    "import numpy as np\n",
    "import re\n",
    "import time\n",
    "from gensim.parsing.preprocessing import preprocess_string, split_alphanum,\\\n",
    "strip_multiple_whitespaces, strip_non_alphanum, strip_numeric, \\\n",
    "strip_punctuation, strip_tags\n",
    "import pkg_resources\n",
    "import multiprocessing\n",
    "from multiprocessing import Pool, Lock\n",
    "#Lower case the given observation\n",
    "def lower_case(string):\n",
    "    return string.lower()\n",
    "#Function that parses the text file with contractions and creates a dictionary from it\n",
    "def create_contraction_dict(contractions_file):\n",
    "    contraction_dict = {}\n",
    "    with open(contractions_file) as file:\n",
    "        for line in file:\n",
    "            mapping = line.strip().split(':')\n",
    "            contraction_dict[mapping[0]]=mapping[1]\n",
    "    return contraction_dict\n",
    "#Function that creates the regex to find the contractions in the text data\n",
    "def create_contractions_re(contraction_dict):\n",
    "    return re.compile('(%s)' % '|'.join(contraction_dict.keys()))\n",
    "#Helper function\n",
    "def replace_with(match):\n",
    "    return contraction_dict[match.group(0)]\n",
    "#Helper function that expands the contractions in each review in our dataset\n",
    "def expand_contractions(string):\n",
    "    return compiled_re.sub(replace_with,string)\n",
    "#Function that linerly applies our custom preprocessing functions to each obervation \n",
    "#in our pandas dataframe           \n",
    "def apply_preprocess(review):\n",
    "    return ' '.join(preprocess_string(review,filters=preprocess_list) )\n",
    "\n",
    "#Initializing the required global variables\n",
    "contraction_dict = create_contraction_dict('contraction_mapping.txt')\n",
    "\n",
    "compiled_re = create_contractions_re(contraction_dict)\n",
    "\n",
    "preprocess_list = [lower_case,\n",
    "                   expand_contractions,\n",
    "                   split_alphanum, \n",
    "                   strip_multiple_whitespaces,\n",
    "                   strip_non_alphanum, \n",
    "                   strip_numeric,\n",
    "                   strip_tags,\n",
    "                   strip_punctuation]\n",
    "\n",
    "example_review = data.review_text[0]"
   ]
  },
  {
   "cell_type": "markdown",
   "metadata": {
    "colab_type": "text",
    "id": "QQutrDTTJFK3"
   },
   "source": [
    "#### Parallel Processing\n",
    "I will parallely apply the above custom gensim preprocessing function across our 1 Million+ Observations pandas dataframe. It will require spliting our dataset into 16 slices and assigning those slices across all 4 cores of my machine so they can be preprocessed in parallel to save time and then the preprocessed reviews can be put back together in a single dataframe again."
   ]
  },
  {
   "cell_type": "code",
   "execution_count": null,
   "metadata": {
    "colab": {},
    "colab_type": "code",
    "id": "OYTp_R28KF5D"
   },
   "outputs": [],
   "source": [
    "#Function that takes in a slice of dataframe and applies the preprocess function to that slice\n",
    "def func(df_slice):\n",
    "    df_slice['review_text'] = df_slice['review_text'].apply(apply_preprocess)\n",
    "    return df_slice\n",
    "#Function that splits the daraframe into certain slices and then distributes the preprocessing \n",
    "#across all cores of my machine and then puts the result back together\n",
    "def parallelize_dataframe_apply(df, func, n_cores=4*multiprocessing.cpu_count()):\n",
    "    df_split_list = np.array_split(df, n_cores)\n",
    "    pool = Pool(processes = n_cores)\n",
    "    df = pd.concat(pool.map(func, df_split_list))\n",
    "    pool.close()\n",
    "    pool.join()\n",
    "    return df"
   ]
  },
  {
   "cell_type": "code",
   "execution_count": null,
   "metadata": {
    "colab": {},
    "colab_type": "code",
    "id": "55HzkpiOI2Aw",
    "outputId": "4fd9ca8f-ba7b-4e1b-f198-d1e62a4c6e33",
    "scrolled": true
   },
   "outputs": [
    {
     "name": "stdout",
     "output_type": "stream",
     "text": [
      "CPU times: user 6.36 s, sys: 7.74 s, total: 14.1 s\n",
      "Wall time: 5min 43s\n"
     ]
    }
   ],
   "source": [
    "%%time\n",
    "data = parallelize_dataframe_apply(data, func)"
   ]
  },
  {
   "cell_type": "markdown",
   "metadata": {
    "colab_type": "text",
    "id": "OoOW6sNCQl0C"
   },
   "source": [
    "#### Results\n",
    "With the power of parallel processing, it took us under 6 minutes to process over a million reviews with 8 different functions each using all 4 cores on my machine!"
   ]
  },
  {
   "cell_type": "markdown",
   "metadata": {
    "colab_type": "text",
    "id": "8J0WxbmckgF6"
   },
   "source": [
    "#### Sanity Check"
   ]
  },
  {
   "cell_type": "code",
   "execution_count": null,
   "metadata": {
    "colab": {},
    "colab_type": "code",
    "id": "ASyca6M5I2Ay",
    "outputId": "cb70478b-44b2-4fc3-8443-702325c1d5d7"
   },
   "outputs": [
    {
     "name": "stdout",
     "output_type": "stream",
     "text": [
      "Raw Review\n",
      "\tI have to admit that I am a fan of Giada's cooking and I had great expectations when I ordered this set. They were however, crushed. While I still love Giada's cooking, this set is just a way for Food Network to make money. They really cheated with these DVD's. All they have are the video from the show, no text recipes, no link to the on line shows and no computer support. They play in Windows media player but the set does not contain the recipes. You can get more by taping the shows and then going to the web to download recipes. Another disappointment is the so so transfer quality to DVD. Perhaps I've been spoiled by HD and Tivo but the older shows I've recorded have had better playback quality than the episodes on the DVD's. It is in the old 480p but the quality of the transfer to DVD is dark and about the same quality as your average old VHS tape, not DVD quality. I get the impression Food Network got cheap and subbed out the DVD transfer to the lowest bidder (China?) and it shows.I could watch Giada read the dictionary and her cooking is really first rate. But, that's all you get is watching Giada. Thank god she is easy to understand and her recipes are easy to follow. But to get consistent results on some of the dishes, you should search the web and find the hard copies.  While Giada herself is great, this set is a waste of money. You're better off recording the shows and going to the web to get the recipes you want or, better yet, just stick with her cookbooks which are all first rate and worlds above this cheap presentation. . Don't waste your money\n",
      "\n",
      "\n",
      "Preprocessed Review\n",
      "\ti have to admit that i am a fan of giada s cooking and i had great expectations when i ordered this set they were however crushed while i still love giada s cooking this set is just a way for food network to make money they really cheated with these dvd s all they have are the video from the show no text recipes no link to the on line show is and no computer support they play in windows media player but the set does not contain the recipes you can get more by taping the show is and then going to the web to download recipes another disappointment is the so so transfer quality to dvd perhaps i have been spoiled by hd and tivo but the older show is i have recorded have had better playback quality than the episodes on the dvd s it is in the old p but the quality of the transfer to dvd is dark and about the same quality as your average old vhs tape not dvd quality i get the impression food network got cheap and subbed out the dvd transfer to the lowest bidder china and it show is i could watch giada read the dictionary and her cooking is really first rate but that is all you get is watching giada thank god she is easy to understand and her recipes are easy to follow but to get consistent results on some of the dishes you should search the web and find the hard copies while giada herself is great this set is a waste of money you are better off recording the show is and going to the web to get the recipes you want or better yet just stick with her cookbooks which are all first rate and worlds above this cheap presentation do not waste your money\n"
     ]
    }
   ],
   "source": [
    "#Before and after preprocessing example review from our dataset\n",
    "print('Raw Review\\n\\t{}'.format(example_review))\n",
    "print('\\n\\nPreprocessed Review\\n\\t{}'.format(data.review_text[0]))"
   ]
  },
  {
   "cell_type": "code",
   "execution_count": null,
   "metadata": {
    "colab": {},
    "colab_type": "code",
    "id": "m4aLA1SgI2A0"
   },
   "outputs": [],
   "source": [
    "#Save all the reviews as a text file \n",
    "np.savetxt('reviews.txt', data['review_text'].values, fmt = '%s')"
   ]
  },
  {
   "cell_type": "markdown",
   "metadata": {
    "colab_type": "text",
    "id": "5b1gg5UzLY1v"
   },
   "source": [
    "## Phrases Modeling\n",
    "I'll be using Word2Vec instead of Doc2Vec as my word emedding method, since that is the method used by the authors of C-LSTM, Zhou et al 2015 to embedd the vocabulary and then later fine tune it with the model as well using backprop. Hence, I have decided to capture important phrases in our data so the word2vec can not only learn the semantic relationships between words but also phrases. This method of detecting phrases before embedding the data is also mentioned in the Word2Vec research paper by Mikolov et al. and is a popular approach to Word2Vec embeddings.\n",
    "\n",
    "<br>\n",
    "\n",
    "Interestingly enough, the hidden state output of the last LSTM unit in the C-LSTM model is considred the paragraph representation of the input by the authors.\n",
    "\n",
    "<br>\n",
    "\n",
    "The Gensim phrases model gives us a good way to detect popular phrases in our data without having to turn the entire dataset into only k-grams which can make the data even more sparse and capture usesless combinations of words. We use the following formula and a threshold value to determine what words we will be detected as phrases based on how prequently they occur together and how frequently they occur indepedently. Running the model one time on the data will capture bi-gram phrases, and then reducing the threshold and running the model again will also capture tri-grams and four-grams.\n",
    "\n",
    "<br>\n",
    "\n",
    "<img src=\"phrases_formula.png\">"
   ]
  },
  {
   "cell_type": "code",
   "execution_count": null,
   "metadata": {
    "colab": {},
    "colab_type": "code",
    "id": "JF4TTpoHI2A2"
   },
   "outputs": [],
   "source": [
    "#Memory efficient way to detect phrases and write updated reviews to file instead of pulling them all in \n",
    "#memory again\n",
    "from gensim.models import Phrases\n",
    "from gensim.models.phrases import Phraser \n",
    "from gensim.models.word2vec import LineSentence\n",
    "import in_place\n",
    "#Function that creates the gensim generator object so we can stream \n",
    "#each review line by line from the file instead of reading all million\n",
    "#reviews in memory at once\n",
    "def create_gensim_generator(in_file_path):\n",
    "    return LineSentence(in_file_path)\n",
    "#Function that builds the phrases model from the data\n",
    "def build_phrases_model(generator_obj, min_count = 5, threshold = 10 ):\n",
    "        phrases = Phrases(generator_obj,\n",
    "                      min_count=min_count,\n",
    "                      threshold=threshold)\n",
    "        return Phraser(phrases)\n",
    "#Function that detects phrases and reads the data back into a text file    \n",
    "def write_phrases_to_file(generator_obj, out_file_path, phrases_model):\n",
    "    with open(out_file_path,'w') as file:\n",
    "        for tokenized_review in generator_obj:\n",
    "            file.write(' '.join(phrases_model[tokenized_review]) + '\\n')                         "
   ]
  },
  {
   "cell_type": "markdown",
   "metadata": {
    "colab_type": "text",
    "id": "MRBxSMTAkgGE"
   },
   "source": [
    "#### First Pass"
   ]
  },
  {
   "cell_type": "code",
   "execution_count": null,
   "metadata": {
    "colab": {},
    "colab_type": "code",
    "id": "5cs1I9ygI2A4",
    "outputId": "4d1b6708-4460-4ab5-eabf-1ac360f48cf5"
   },
   "outputs": [
    {
     "name": "stdout",
     "output_type": "stream",
     "text": [
      "CPU times: user 13min 55s, sys: 12.7 s, total: 14min 7s\n",
      "Wall time: 14min 48s\n"
     ]
    }
   ],
   "source": [
    "%%time\n",
    "write_phrases_to_file(create_gensim_generator('reviews.txt'),\n",
    "                       'reviews_phrases.txt',\n",
    "                       build_phrases_model( create_gensim_generator('reviews.txt'),\n",
    "                                         min_count = 5,\n",
    "                                         threshold = 10) \n",
    "                      )"
   ]
  },
  {
   "cell_type": "markdown",
   "metadata": {
    "colab_type": "text",
    "id": "kYB0jKH5kgGI"
   },
   "source": [
    "#### Phrases Detected"
   ]
  },
  {
   "cell_type": "code",
   "execution_count": null,
   "metadata": {
    "colab": {},
    "colab_type": "code",
    "id": "RUiaKFoaI2A7",
    "outputId": "068b601b-18ae-4d06-d4cf-6a6d30ae1ed4"
   },
   "outputs": [
    {
     "name": "stdout",
     "output_type": "stream",
     "text": [
      "i have to admit that i am a fan of giada s cooking and i had great expectations when i ordered this set they were however crushed while i still love giada s cooking this set is just a way for food_network to make money they really cheated with these dvd s all they have are the video from the show no text recipes no link to the on line show is and no computer support they play in windows_media player but the set does not contain the recipes you can get more by taping the show is and then going to the web to download recipes another disappointment is the so so transfer quality to dvd perhaps i have_been spoiled by hd and tivo but the older show is i have recorded have had better playback quality than the episodes on the dvd s it is in the old p but the quality of the transfer to dvd is dark and about the same quality as your_average old vhs_tape not dvd quality i get the impression food_network got cheap and subbed out the dvd transfer to the lowest bidder china and it show is i could watch giada read the dictionary and her cooking is really first_rate but that is all you get is watching giada thank_god she is easy to understand and her recipes are easy to follow but to get consistent results on some of the dishes you should search the web and find the hard copies while giada herself is great this set is a waste of money you are better off recording the show is and going to the web to get the recipes you want or better yet just stick with her cookbooks which are all first_rate and worlds above this cheap presentation do not waste_your money\n",
      "\n"
     ]
    }
   ],
   "source": [
    "with open('reviews_phrases.txt') as file:\n",
    "    for review in file:\n",
    "        print(review)\n",
    "        break"
   ]
  },
  {
   "cell_type": "markdown",
   "metadata": {
    "colab_type": "text",
    "id": "DVTiYYb0fH9A"
   },
   "source": [
    "Phrases detected from first pass:\n",
    "\n",
    "\n",
    "*   food_network\n",
    "*   windows_media\n",
    "*   have_been\n",
    "*   your_average\n",
    "*   vhs_tape\n",
    "*   food_network\n",
    "*   first_rate\n",
    "*   thank_god\n",
    "*   first_rate\n",
    "*   waste_your\n",
    "\n"
   ]
  },
  {
   "cell_type": "markdown",
   "metadata": {
    "colab_type": "text",
    "id": "wk2xEJtlkgGM"
   },
   "source": [
    "#### Second Pass"
   ]
  },
  {
   "cell_type": "code",
   "execution_count": null,
   "metadata": {
    "colab": {},
    "colab_type": "code",
    "id": "Dojuw_ySI2A9",
    "outputId": "3b925dfb-c6ec-4ec6-9ad2-36c6296ec799"
   },
   "outputs": [
    {
     "name": "stdout",
     "output_type": "stream",
     "text": [
      "CPU times: user 14min 49s, sys: 13 s, total: 15min 2s\n",
      "Wall time: 15min 28s\n"
     ]
    }
   ],
   "source": [
    "%%time\n",
    "#Lowering the threshold and running the model again on the result of the first run\n",
    "#to capture longer phrases \n",
    "write_phrases_to_file(create_gensim_generator('reviews_phrases.txt'),\n",
    "                       'reviews_phrases2.txt',\n",
    "                       build_phrases_model( create_gensim_generator('reviews_phrases.txt'),\n",
    "                                         min_count = 5,\n",
    "                                         threshold = 7) \n",
    "                      )"
   ]
  },
  {
   "cell_type": "markdown",
   "metadata": {
    "colab_type": "text",
    "id": "Dv4dus3ekgGP"
   },
   "source": [
    "#### Phrases Detected"
   ]
  },
  {
   "cell_type": "code",
   "execution_count": null,
   "metadata": {
    "colab": {},
    "colab_type": "code",
    "id": "4hlxGqJCI2A_",
    "outputId": "89ffdf4f-3eed-4ec2-9697-6d8451a6dc34"
   },
   "outputs": [
    {
     "name": "stdout",
     "output_type": "stream",
     "text": [
      "i have to admit that i_am a fan of giada s cooking and i had great expectations when i ordered this set they_were however crushed while i still love giada s cooking this set is just a way for food_network to make money they really cheated with these dvd s all they have are the video from the show no text recipes no link to the on line show is and no computer support they play in windows_media_player but the set does_not contain the recipes you can get more by taping the show is and then going to the web to download recipes another disappointment is the so so transfer quality to dvd perhaps i have_been spoiled_by hd and tivo but the older show is i have recorded have had better playback_quality than the episodes on the dvd s it is in the old p but the quality of the transfer to dvd is dark and about the same quality as your_average old_vhs_tape not dvd quality i get the impression food_network got cheap and subbed out the dvd_transfer to the lowest bidder china and it show is i could watch giada read the dictionary and her cooking is really first_rate but that is all you get is watching giada thank_god she is easy to understand and her recipes are easy to follow but to get consistent results on some of the dishes you should search the web and find the hard copies while giada herself is great this set is a waste of money you are better off recording the show is and going to the web to get the recipes you want or better yet just stick_with her cookbooks which are all first_rate and worlds above this cheap presentation do_not waste_your_money\n",
      "\n"
     ]
    }
   ],
   "source": [
    "with open('reviews_phrases2.txt') as file:\n",
    "    for review in file:\n",
    "        print(review)\n",
    "        break"
   ]
  },
  {
   "cell_type": "markdown",
   "metadata": {
    "colab_type": "text",
    "id": "uXyIsRtrgSus"
   },
   "source": [
    "New Phrases detected from second pass on data with reduced threshold:\n",
    "\n",
    "\n",
    "*   i_am\n",
    "*   they_were\n",
    "*   windows_media_player\n",
    "*   does_not\n",
    "*   spoiled_by\n",
    "*   playback_quality\n",
    "*   old_vhs_tape\n",
    "*   dvd_transfer\n",
    "*   stick_with\n",
    "*   waste_your_money\n",
    "\n"
   ]
  },
  {
   "cell_type": "markdown",
   "metadata": {
    "colab_type": "text",
    "id": "c-rvrRqckgGT"
   },
   "source": [
    "#### More Examples"
   ]
  },
  {
   "cell_type": "code",
   "execution_count": null,
   "metadata": {
    "colab": {},
    "colab_type": "code",
    "id": "KKHImlyzI2BJ",
    "outputId": "c01059c3-bc1b-4064-a336-ce8f14de1319"
   },
   "outputs": [
    {
     "name": "stdout",
     "output_type": "stream",
     "text": [
      "this is everything i expected it to be it came considerably quick as_well with ordering it right before the holiday great\n",
      "\n",
      "this is a vintage children s classic even the adults can still enjoy very_creative and well_put_together christmas delight\n",
      "\n",
      "first let_us clear up one fact this is not claymation it is stop_motion_animation claymation has figures made of clay that are filmed one frame at a time stop_motion has dimentional puppets that are animated one frame at a time like the ray_harryhousen figures in king_kong jason and the argonaughts etc there is a vast differance in the techniques this fact aside quot santa_claus is coming to town quot is the very best of the wonderful rankin_bass_specials the designer for the series of holiday_specials paul_coker has_do_note an_exceptional_job with these delightful wooden and plastic creations we see kris_kringle develope from a foundling baby to the santa figure so well_known today each stage of his development is wonderful but then each of the characters is designed and executed_perfectly watch the delightful changes of the winter worlock from mean and evil to mellow and fun all the animation is smooth and precise giving the excellent illusion that these figures are actually alive the songs are excellent from the familiar quot santa_claus is coming to town quot to the lovely quot my world is beginning today quot sung_by jessica the future mrs_santa for some_strange_reason this delightful song is often cut when this production is shown_on_tv luckily it is included in the tape the script could_not be better giving explanations for most of the santa legends such_as how he got his name how reindeer can fly why he comes down_chimneys and fills stockings it can make a believer out of even ebenezer_scrooge this has_been my_absolute_favorite_christmas video since_i_first_saw it many_years_ago_on_tv it was one of the reasons i_bought my first vcr so i could make a tape of it before it was commercially_available i even have an_old lp_recording of the complete show so do i_recommend it the answer is a_resounding_yes the best of the christmas movies\n",
      "\n",
      "great for children adults of all_ages the claymation and colorado have_been_remastered and makethis movie a_real_treat classic\n",
      "\n",
      "this is a special touching christmas video wonderful for the kids and to add to your christmas collection wonderful\n",
      "\n",
      "i caught this on_abc_tv tonight as i was flicking the channels every_year at this time this airs i_have_seen it countless_times_over the years what_else_can be said it is a classic christmas_tale that is in awesome stop_motion_animation it is funny this christmas_special with its stop_motion_animation looks better more_authentic and more_believable than the current computer_animated christmas_specials which look_like cartoonish video_games anyway everything_about santa_claus is comin to town is perfect i like the fact_that it is sort_of a prequel of_sorts telling the story of how santa_claus evolved the villains in this are so cool and i like the castle the dungeon and the overall_atmosphere of this christmas_classic i_highly_recommend this christmas_classic over any cgi_animated piece of garbage they make today christmas_classic\n",
      "\n",
      "like a hot_cocoa with a shot of peppermint schnapps this is my_favorite of all the rankin_bass_specials and they_are all excellent many_people get all the quot animagic quot cartoons confused so i will try to pinpoint this one this is not the one with rudolph quot the red_nosed_reindeer_quot and not the one with the heat_miser and snow_miser quot year without a santa_claus quot this is the one with the toy hating burgermeister_meisterburger and the winter_warlock we get to see santa_claus go from an_orphaned baby raised_by elves to a groovy hip young_adult who is outlawed for delivering_toys to finally becoming the toy making giving king of christmas we also get to see mrs_claus as a groovilicious babe in her_own_right and she finally_gets a name jessica some charmingly_dated scenes only add to the warm innocence of this show like when jessica realizes quot her_own town has turned_against her quot and begins singing of her love for and desire to be with kris_kringle transcending into a cornucopia of hippy trippy flowers swirls and polka_dots and finally catching a glimpse of her paper cutout reflection in the water_fountain in the center of town remarkable but the show is main_message is one of love and the courage to follow_your_heart and do what you_know is right regardless of the obstacles that come in your way so take that burgermeister and winter_warlock some_touching_moments like when kris and jessica are married in the forest bebecause no town would have them and one of the final_scenes_where we are shown the contrast of those_who have no holiday_spirit to santa_claus who gives of himself each_year are real tear_jerkers a wonderful christmas_special that no holiday_season is complete_without warm_cozy and groovy\n",
      "\n",
      "when i was a kid i always_enjoyed these_movies at time of christmas feels_like time is back without black and white of_course good\n",
      "\n",
      "on the th day of christmas i_am_going to review santa_claus is comin to town it is a heartwarming_story with tons_of good memorable_characters with lots_of great songs to_boot the voice_acting is dead on great the villains are creepy and give you chuckles once in a away mickey_rooney as santa_claus is heartwarming and pretty_good the claymation was pretty_good when it came_out and still is to this day the sets are pretty_good and beautiful the effects are corny but still nice at the time it was do_note overall despite some silly_moments plot_holes it is still a great christmas_special to watch_every_year i give this special a out of th day of christmas review\n",
      "\n",
      "this movie is one of a kind this is what we watched back on the day and was happy to get it for our lil ones to watch on_dvd great christmas movie\n",
      "\n"
     ]
    }
   ],
   "source": [
    "#Phrases detected in various other reviews in our data\n",
    "import itertools as it\n",
    "phrases_reviews = LineSentence('reviews_phrases2.txt')\n",
    "for review in it.islice( phrases_reviews, 1000,1010 ):\n",
    "    print( ' '.join(review) )\n",
    "    print('')"
   ]
  },
  {
   "cell_type": "code",
   "execution_count": null,
   "metadata": {
    "colab": {},
    "colab_type": "code",
    "id": "At0jgMqgM51t"
   },
   "outputs": [],
   "source": [
    "from google.colab import drive\n",
    "drive.mount('/content/drive')"
   ]
  },
  {
   "cell_type": "markdown",
   "metadata": {
    "colab_type": "text",
    "id": "BFuxWgNMkgGb"
   },
   "source": [
    "#### Common Phrases in our Dataset"
   ]
  },
  {
   "cell_type": "code",
   "execution_count": null,
   "metadata": {
    "colab": {},
    "colab_type": "code",
    "id": "s3KEFIfWI2BM"
   },
   "outputs": [],
   "source": [
    "import re \n",
    "from collections import Counter\n",
    "#Extracting and getting the count of different phrases detected by our model for a sanity check\n",
    "def extract_all_phrases(compiled_re, input_file_path):\n",
    "    phrases_dict = []\n",
    "    with open(input_file_path) as file:\n",
    "        for line in file:\n",
    "            phrases_dict.extend(compiled_re.findall(line))\n",
    "    return Counter(phrases_dict)"
   ]
  },
  {
   "cell_type": "code",
   "execution_count": null,
   "metadata": {
    "colab": {
     "base_uri": "https://localhost:8080/",
     "height": 51
    },
    "colab_type": "code",
    "id": "tqrH1Jp7I2BO",
    "outputId": "b2141b12-6f82-4403-a115-fa766a0f2a8d"
   },
   "outputs": [
    {
     "name": "stdout",
     "output_type": "stream",
     "text": [
      "CPU times: user 1min 19s, sys: 898 ms, total: 1min 20s\n",
      "Wall time: 1min 24s\n"
     ]
    }
   ],
   "source": [
    "%%time \n",
    "phrases_count = extract_all_phrases(re.compile('[a-z]+(?:\\_[a-z]+)+'),\n",
    "                                   '/content/drive/Shared drives/project_reboot/reviews_phrases2.txt')"
   ]
  },
  {
   "cell_type": "code",
   "execution_count": null,
   "metadata": {
    "colab": {
     "base_uri": "https://localhost:8080/",
     "height": 374
    },
    "colab_type": "code",
    "id": "XHQKSYqJI2BS",
    "outputId": "9af27e6a-4ab8-42a3-ea9f-8178a6de7554"
   },
   "outputs": [
    {
     "name": "stdout",
     "output_type": "stream",
     "text": [
      "20 Most Common phrases detected in the movie reviews:\n",
      "\tPhrase: if_you, Count: 193648\n",
      "\tPhrase: have_been, Count: 85551\n",
      "\tPhrase: have_seen, Count: 47620\n",
      "\tPhrase: do_note, Count: 47232\n",
      "\tPhrase: blu_ray, Count: 43604\n",
      "\tPhrase: my_favorite, Count: 42256\n",
      "\tPhrase: more_than, Count: 41622\n",
      "\tPhrase: has_been, Count: 38947\n",
      "\tPhrase: at_least, Count: 31394\n",
      "\tPhrase: special_effects, Count: 29724\n",
      "\tPhrase: based_on, Count: 27283\n",
      "\tPhrase: should_be, Count: 27100\n",
      "\tPhrase: better_than, Count: 26635\n",
      "\tPhrase: must_see, Count: 25017\n",
      "\tPhrase: those_who, Count: 23405\n",
      "\tPhrase: even_though, Count: 22979\n",
      "\tPhrase: an_excellent, Count: 22663\n",
      "\tPhrase: along_with, Count: 22604\n",
      "\tPhrase: played_by, Count: 22373\n",
      "\tPhrase: have_ever_seen, Count: 20136\n"
     ]
    }
   ],
   "source": [
    "print(\"20 Most Common phrases detected in the movie reviews:\")\n",
    "for phrase in phrases_count.most_common()[:20]:\n",
    "    print('\\tPhrase: {}, Count: {}'.format(phrase[0],phrase[1]))"
   ]
  },
  {
   "cell_type": "markdown",
   "metadata": {
    "colab_type": "text",
    "id": "nGqSz6jCkgGi"
   },
   "source": [
    "## Word2Vec Embeddings"
   ]
  },
  {
   "cell_type": "code",
   "execution_count": null,
   "metadata": {
    "colab": {},
    "colab_type": "code",
    "id": "Ulvtdq1NLlx9"
   },
   "outputs": [],
   "source": [
    "#Import everything to build the word2vec model\n",
    "from gensim.models import Word2Vec,KeyedVectors\n",
    "from gensim.models.word2vec import LineSentence\n",
    "import logging  # Setting up the loggings to monitor gensim\n",
    "logging.basicConfig(format=\"%(levelname)s - %(asctime)s: %(message)s\", datefmt= '%H:%M:%S', level=logging.INFO)"
   ]
  },
  {
   "cell_type": "markdown",
   "metadata": {
    "colab_type": "text",
    "id": "r4YFzqPL4uEB"
   },
   "source": [
    "#### Word2Vec Initialization\n",
    "The values for subsampling(reduce the effect of really common words) and negative sampling(faster training by not updating every word in the vocab everytime) were chosen based on the Mikolov et al. and their best performing parameter combination on various datasets. I am using the skip-gram variation of the model , with a bigger window size to get good embeddings and high value of min_count to ensure I only consider substantial words and don't slow down training."
   ]
  },
  {
   "cell_type": "code",
   "execution_count": null,
   "metadata": {
    "colab": {},
    "colab_type": "code",
    "id": "A7u902kHR_t0"
   },
   "outputs": [],
   "source": [
    "#Creating a generator object from our phrases review again to stream data again instead of \n",
    "#reading it all into memory again\n",
    "reviews_streaming_obj = LineSentence('/content/drive/Shared drives/project_reboot/reviews_phrases2.txt')\n",
    "#Initializing the w2v model\n",
    "w2v_model = Word2Vec(min_count=20,\n",
    "                     window=5,\n",
    "                     size=300,\n",
    "                     sample=1e-5, \n",
    "                     alpha=0.01, \n",
    "                     min_alpha=0.0007, \n",
    "                     negative=15,\n",
    "                     workers=2)"
   ]
  },
  {
   "cell_type": "markdown",
   "metadata": {
    "colab_type": "text",
    "id": "IqE5J0xWkgGq"
   },
   "source": [
    "#### Building The Vocabulary"
   ]
  },
  {
   "cell_type": "code",
   "execution_count": null,
   "metadata": {
    "colab": {
     "base_uri": "https://localhost:8080/",
     "height": 462
    },
    "colab_type": "code",
    "id": "MLLZafqdSm5v",
    "outputId": "42462ca0-2665-472c-cc46-6fe3b9df5207"
   },
   "outputs": [
    {
     "name": "stderr",
     "output_type": "stream",
     "text": [
      "INFO - 01:10:29: collecting all words and their counts\n",
      "/usr/local/lib/python3.6/dist-packages/smart_open/smart_open_lib.py:402: UserWarning: This function is deprecated, use smart_open.open instead. See the migration notes for details: https://github.com/RaRe-Technologies/smart_open/blob/master/README.rst#migrating-to-the-new-open-function\n",
      "  'See the migration notes for details: %s' % _MIGRATION_NOTES_URL\n",
      "INFO - 01:10:29: PROGRESS: at sentence #0, processed 0 words, keeping 0 word types\n",
      "INFO - 01:10:32: PROGRESS: at sentence #100000, processed 12138278 words, keeping 193903 word types\n",
      "INFO - 01:10:34: PROGRESS: at sentence #200000, processed 23425464 words, keeping 262067 word types\n",
      "INFO - 01:10:37: PROGRESS: at sentence #300000, processed 34118986 words, keeping 312539 word types\n",
      "INFO - 01:10:40: PROGRESS: at sentence #400000, processed 45953873 words, keeping 362589 word types\n",
      "INFO - 01:10:42: PROGRESS: at sentence #500000, processed 56352119 words, keeping 403117 word types\n",
      "INFO - 01:10:45: PROGRESS: at sentence #600000, processed 68026510 words, keeping 444473 word types\n",
      "INFO - 01:10:48: PROGRESS: at sentence #700000, processed 79760714 words, keeping 484490 word types\n",
      "INFO - 01:10:51: PROGRESS: at sentence #800000, processed 91189724 words, keeping 519743 word types\n",
      "INFO - 01:10:54: PROGRESS: at sentence #900000, processed 103193177 words, keeping 555043 word types\n",
      "INFO - 01:10:57: PROGRESS: at sentence #1000000, processed 114999907 words, keeping 587912 word types\n",
      "INFO - 01:10:58: collected 603734 word types from a corpus of 120900149 raw words and 1046025 sentences\n",
      "INFO - 01:10:58: Loading a fresh vocabulary\n",
      "INFO - 01:10:59: effective_min_count=20 retains 103771 unique words (17% of original 603734, drops 499963)\n",
      "INFO - 01:10:59: effective_min_count=20 leaves 119010432 word corpus (98% of original 120900149, drops 1889717)\n",
      "INFO - 01:10:59: deleting the raw counts dictionary of 603734 items\n",
      "INFO - 01:10:59: sample=1e-05 downsamples 2614 most-common words\n",
      "INFO - 01:10:59: downsampling leaves estimated 32754279 word corpus (27.5% of prior 119010432)\n",
      "INFO - 01:10:59: estimated required memory for 103771 words and 300 dimensions: 300935900 bytes\n",
      "INFO - 01:10:59: resetting layer weights\n"
     ]
    },
    {
     "name": "stdout",
     "output_type": "stream",
     "text": [
      "CPU times: user 48.2 s, sys: 476 ms, total: 48.6 s\n",
      "Wall time: 48.8 s\n"
     ]
    }
   ],
   "source": [
    "%%time \n",
    "w2v_model.build_vocab( reviews_streaming_obj, progress_per=100000 )"
   ]
  },
  {
   "cell_type": "markdown",
   "metadata": {
    "colab_type": "text",
    "id": "_4yiZkcnkgGt"
   },
   "source": [
    "#### Training The Model"
   ]
  },
  {
   "cell_type": "code",
   "execution_count": null,
   "metadata": {
    "colab": {
     "base_uri": "https://localhost:8080/",
     "height": 1000
    },
    "colab_type": "code",
    "id": "y2nolBDjTyJK",
    "outputId": "fb528a6b-ee72-473e-c2bd-35a26659b15e"
   },
   "outputs": [
    {
     "name": "stderr",
     "output_type": "stream",
     "text": [
      "INFO - 01:14:46: training model with 2 workers on 103771 vocabulary and 300 features, using sg=0 hs=0 sample=1e-05 negative=15 window=5\n",
      "/usr/local/lib/python3.6/dist-packages/smart_open/smart_open_lib.py:402: UserWarning: This function is deprecated, use smart_open.open instead. See the migration notes for details: https://github.com/RaRe-Technologies/smart_open/blob/master/README.rst#migrating-to-the-new-open-function\n",
      "  'See the migration notes for details: %s' % _MIGRATION_NOTES_URL\n",
      "INFO - 01:14:47: EPOCH 1 - PROGRESS: at 0.36% examples, 150935 words/s, in_qsize 3, out_qsize 0\n",
      "INFO - 01:18:08: worker thread finished; awaiting finish of 1 more threads\n",
      "INFO - 01:18:08: worker thread finished; awaiting finish of 0 more threads\n",
      "INFO - 01:18:08: EPOCH - 1 : training on 120900149 raw words (32758065 effective words) took 201.6s, 162517 effective words/s\n",
      "INFO - 01:18:09: EPOCH 2 - PROGRESS: at 0.36% examples, 152117 words/s, in_qsize 3, out_qsize 0\n",
      "INFO - 01:21:33: worker thread finished; awaiting finish of 1 more threads\n",
      "INFO - 01:21:33: worker thread finished; awaiting finish of 0 more threads\n",
      "INFO - 01:21:33: EPOCH - 2 : training on 120900149 raw words (32753195 effective words) took 204.7s, 160007 effective words/s\n",
      "INFO - 01:21:34: EPOCH 3 - PROGRESS: at 0.35% examples, 147248 words/s, in_qsize 2, out_qsize 1\n",
      "INFO - 01:24:52: worker thread finished; awaiting finish of 1 more threads\n",
      "INFO - 01:24:52: worker thread finished; awaiting finish of 0 more threads\n",
      "INFO - 01:24:52: EPOCH - 3 : training on 120900149 raw words (32756555 effective words) took 199.1s, 164489 effective words/s\n",
      "INFO - 01:24:53: EPOCH 4 - PROGRESS: at 0.41% examples, 159022 words/s, in_qsize 3, out_qsize 0\n",
      "INFO - 01:28:04: worker thread finished; awaiting finish of 1 more threads\n",
      "INFO - 01:28:04: worker thread finished; awaiting finish of 0 more threads\n",
      "INFO - 01:28:04: EPOCH - 4 : training on 120900149 raw words (32750313 effective words) took 192.2s, 170402 effective words/s\n",
      "INFO - 01:28:05: EPOCH 5 - PROGRESS: at 0.37% examples, 154167 words/s, in_qsize 3, out_qsize 0\n",
      "INFO - 01:31:24: worker thread finished; awaiting finish of 1 more threads\n",
      "INFO - 01:31:24: worker thread finished; awaiting finish of 0 more threads\n",
      "INFO - 01:31:24: EPOCH - 5 : training on 120900149 raw words (32751556 effective words) took 199.8s, 163937 effective words/s\n",
      "INFO - 01:31:25: EPOCH 6 - PROGRESS: at 0.36% examples, 150478 words/s, in_qsize 3, out_qsize 0\n",
      "INFO - 01:34:46: worker thread finished; awaiting finish of 1 more threads\n",
      "INFO - 01:34:46: worker thread finished; awaiting finish of 0 more threads\n",
      "INFO - 01:34:46: EPOCH - 6 : training on 120900149 raw words (32755595 effective words) took 202.1s, 162044 effective words/s\n",
      "INFO - 01:34:47: EPOCH 7 - PROGRESS: at 0.37% examples, 154412 words/s, in_qsize 3, out_qsize 0\n",
      "INFO - 01:38:04: worker thread finished; awaiting finish of 1 more threads\n",
      "INFO - 01:38:04: worker thread finished; awaiting finish of 0 more threads\n",
      "INFO - 01:38:04: EPOCH - 7 : training on 120900149 raw words (32755352 effective words) took 198.1s, 165315 effective words/s\n",
      "INFO - 01:38:05: EPOCH 8 - PROGRESS: at 0.37% examples, 157020 words/s, in_qsize 3, out_qsize 0\n",
      "INFO - 01:41:18: worker thread finished; awaiting finish of 1 more threads\n",
      "INFO - 01:41:18: worker thread finished; awaiting finish of 0 more threads\n",
      "INFO - 01:41:18: EPOCH - 8 : training on 120900149 raw words (32755770 effective words) took 193.9s, 168890 effective words/s\n",
      "INFO - 01:41:19: EPOCH 9 - PROGRESS: at 0.37% examples, 157724 words/s, in_qsize 3, out_qsize 0\n",
      "INFO - 01:44:29: worker thread finished; awaiting finish of 1 more threads\n",
      "INFO - 01:44:29: worker thread finished; awaiting finish of 0 more threads\n",
      "INFO - 01:44:29: EPOCH - 9 : training on 120900149 raw words (32754413 effective words) took 191.0s, 171525 effective words/s\n",
      "INFO - 01:44:30: EPOCH 10 - PROGRESS: at 0.46% examples, 169926 words/s, in_qsize 3, out_qsize 0\n",
      "INFO - 01:47:31: worker thread finished; awaiting finish of 1 more threads\n",
      "INFO - 01:47:31: worker thread finished; awaiting finish of 0 more threads\n",
      "INFO - 01:47:31: EPOCH - 10 : training on 120900149 raw words (32756205 effective words) took 182.5s, 179488 effective words/s\n",
      "INFO - 01:47:33: EPOCH 11 - PROGRESS: at 0.46% examples, 170717 words/s, in_qsize 3, out_qsize 0\n",
      "INFO - 01:50:31: worker thread finished; awaiting finish of 1 more threads\n",
      "INFO - 01:50:31: worker thread finished; awaiting finish of 0 more threads\n",
      "INFO - 01:50:31: EPOCH - 11 : training on 120900149 raw words (32755241 effective words) took 179.4s, 182606 effective words/s\n",
      "INFO - 01:50:32: EPOCH 12 - PROGRESS: at 0.49% examples, 176444 words/s, in_qsize 3, out_qsize 0\n",
      "INFO - 01:53:29: worker thread finished; awaiting finish of 1 more threads\n",
      "INFO - 01:53:29: worker thread finished; awaiting finish of 0 more threads\n",
      "INFO - 01:53:29: EPOCH - 12 : training on 120900149 raw words (32754427 effective words) took 178.3s, 183743 effective words/s\n",
      "INFO - 01:53:30: EPOCH 13 - PROGRESS: at 0.47% examples, 174649 words/s, in_qsize 3, out_qsize 0\n",
      "INFO - 01:56:27: worker thread finished; awaiting finish of 1 more threads\n",
      "INFO - 01:56:27: worker thread finished; awaiting finish of 0 more threads\n",
      "INFO - 01:56:27: EPOCH - 13 : training on 120900149 raw words (32757048 effective words) took 178.1s, 183945 effective words/s\n",
      "INFO - 01:56:28: EPOCH 14 - PROGRESS: at 0.46% examples, 171132 words/s, in_qsize 3, out_qsize 0\n",
      "INFO - 01:59:25: worker thread finished; awaiting finish of 1 more threads\n",
      "INFO - 01:59:25: worker thread finished; awaiting finish of 0 more threads\n",
      "INFO - 01:59:25: EPOCH - 14 : training on 120900149 raw words (32755422 effective words) took 178.3s, 183759 effective words/s\n",
      "INFO - 01:59:26: EPOCH 15 - PROGRESS: at 0.45% examples, 170004 words/s, in_qsize 3, out_qsize 0\n",
      "INFO - 02:02:23: worker thread finished; awaiting finish of 1 more threads\n",
      "INFO - 02:02:24: worker thread finished; awaiting finish of 0 more threads\n",
      "INFO - 02:02:24: EPOCH - 15 : training on 120900149 raw words (32757543 effective words) took 178.0s, 184016 effective words/s\n",
      "INFO - 02:02:25: EPOCH 16 - PROGRESS: at 0.49% examples, 176837 words/s, in_qsize 3, out_qsize 0\n",
      "INFO - 02:05:20: worker thread finished; awaiting finish of 1 more threads\n",
      "INFO - 02:05:20: worker thread finished; awaiting finish of 0 more threads\n",
      "INFO - 02:05:20: EPOCH - 16 : training on 120900149 raw words (32753953 effective words) took 176.9s, 185111 effective words/s\n",
      "INFO - 02:05:21: EPOCH 17 - PROGRESS: at 0.49% examples, 177500 words/s, in_qsize 3, out_qsize 0\n",
      "INFO - 02:08:17: worker thread finished; awaiting finish of 1 more threads\n",
      "INFO - 02:08:17: worker thread finished; awaiting finish of 0 more threads\n",
      "INFO - 02:08:17: EPOCH - 17 : training on 120900149 raw words (32755330 effective words) took 176.2s, 185876 effective words/s\n",
      "INFO - 02:08:18: EPOCH 18 - PROGRESS: at 0.47% examples, 174888 words/s, in_qsize 3, out_qsize 0\n",
      "INFO - 02:11:13: worker thread finished; awaiting finish of 1 more threads\n",
      "INFO - 02:11:13: worker thread finished; awaiting finish of 0 more threads\n",
      "INFO - 02:11:13: EPOCH - 18 : training on 120900149 raw words (32748897 effective words) took 176.1s, 186013 effective words/s\n",
      "INFO - 02:11:14: EPOCH 19 - PROGRESS: at 0.49% examples, 176678 words/s, in_qsize 3, out_qsize 0\n",
      "INFO - 02:14:08: worker thread finished; awaiting finish of 1 more threads\n",
      "INFO - 02:14:08: worker thread finished; awaiting finish of 0 more threads\n",
      "INFO - 02:14:08: EPOCH - 19 : training on 120900149 raw words (32748289 effective words) took 175.6s, 186465 effective words/s\n",
      "INFO - 02:14:09: EPOCH 20 - PROGRESS: at 0.46% examples, 172133 words/s, in_qsize 3, out_qsize 0\n",
      "INFO - 02:17:04: worker thread finished; awaiting finish of 1 more threads\n",
      "INFO - 02:17:04: worker thread finished; awaiting finish of 0 more threads\n",
      "INFO - 02:17:04: EPOCH - 20 : training on 120900149 raw words (32756736 effective words) took 175.9s, 186230 effective words/s\n",
      "INFO - 02:17:05: EPOCH 21 - PROGRESS: at 0.49% examples, 177394 words/s, in_qsize 3, out_qsize 0\n",
      "INFO - 02:20:00: worker thread finished; awaiting finish of 1 more threads\n",
      "INFO - 02:20:00: worker thread finished; awaiting finish of 0 more threads\n",
      "INFO - 02:20:00: EPOCH - 21 : training on 120900149 raw words (32754952 effective words) took 175.9s, 186251 effective words/s\n",
      "INFO - 02:20:01: EPOCH 22 - PROGRESS: at 0.47% examples, 174780 words/s, in_qsize 3, out_qsize 0\n",
      "INFO - 02:22:55: worker thread finished; awaiting finish of 1 more threads\n",
      "INFO - 02:22:55: worker thread finished; awaiting finish of 0 more threads\n",
      "INFO - 02:22:55: EPOCH - 22 : training on 120900149 raw words (32754057 effective words) took 175.2s, 186904 effective words/s\n",
      "INFO - 02:22:56: EPOCH 23 - PROGRESS: at 0.49% examples, 177040 words/s, in_qsize 3, out_qsize 0\n",
      "INFO - 02:25:52: worker thread finished; awaiting finish of 1 more threads\n",
      "INFO - 02:25:52: worker thread finished; awaiting finish of 0 more threads\n",
      "INFO - 02:25:52: EPOCH - 23 : training on 120900149 raw words (32754119 effective words) took 176.2s, 185941 effective words/s\n",
      "INFO - 02:25:53: EPOCH 24 - PROGRESS: at 0.47% examples, 175221 words/s, in_qsize 3, out_qsize 0\n",
      "INFO - 02:28:48: worker thread finished; awaiting finish of 1 more threads\n",
      "INFO - 02:28:48: worker thread finished; awaiting finish of 0 more threads\n",
      "INFO - 02:28:48: EPOCH - 24 : training on 120900149 raw words (32758560 effective words) took 176.1s, 186021 effective words/s\n",
      "INFO - 02:28:49: EPOCH 25 - PROGRESS: at 0.49% examples, 177964 words/s, in_qsize 3, out_qsize 0\n",
      "INFO - 02:31:42: worker thread finished; awaiting finish of 1 more threads\n",
      "INFO - 02:31:42: worker thread finished; awaiting finish of 0 more threads\n",
      "INFO - 02:31:42: EPOCH - 25 : training on 120900149 raw words (32754505 effective words) took 174.7s, 187485 effective words/s\n",
      "INFO - 02:31:43: EPOCH 26 - PROGRESS: at 0.49% examples, 178202 words/s, in_qsize 3, out_qsize 0\n",
      "INFO - 02:34:37: worker thread finished; awaiting finish of 1 more threads\n",
      "INFO - 02:34:37: worker thread finished; awaiting finish of 0 more threads\n",
      "INFO - 02:34:37: EPOCH - 26 : training on 120900149 raw words (32753966 effective words) took 174.3s, 187926 effective words/s\n",
      "INFO - 02:34:38: EPOCH 27 - PROGRESS: at 0.47% examples, 175654 words/s, in_qsize 3, out_qsize 0\n",
      "INFO - 02:37:31: worker thread finished; awaiting finish of 1 more threads\n",
      "INFO - 02:37:31: worker thread finished; awaiting finish of 0 more threads\n",
      "INFO - 02:37:31: EPOCH - 27 : training on 120900149 raw words (32752708 effective words) took 174.5s, 187707 effective words/s\n",
      "INFO - 02:37:32: EPOCH 28 - PROGRESS: at 0.49% examples, 178139 words/s, in_qsize 3, out_qsize 0\n",
      "INFO - 02:40:26: worker thread finished; awaiting finish of 1 more threads\n",
      "INFO - 02:40:26: worker thread finished; awaiting finish of 0 more threads\n",
      "INFO - 02:40:26: EPOCH - 28 : training on 120900149 raw words (32751494 effective words) took 174.7s, 187420 effective words/s\n",
      "INFO - 02:40:27: EPOCH 29 - PROGRESS: at 0.46% examples, 170297 words/s, in_qsize 3, out_qsize 0\n",
      "INFO - 02:43:21: worker thread finished; awaiting finish of 1 more threads\n",
      "INFO - 02:43:21: worker thread finished; awaiting finish of 0 more threads\n",
      "INFO - 02:43:21: EPOCH - 29 : training on 120900149 raw words (32755999 effective words) took 175.0s, 187163 effective words/s\n",
      "INFO - 02:43:22: EPOCH 30 - PROGRESS: at 0.49% examples, 175974 words/s, in_qsize 3, out_qsize 0\n",
      "INFO - 02:46:16: worker thread finished; awaiting finish of 1 more threads\n",
      "INFO - 02:46:16: worker thread finished; awaiting finish of 0 more threads\n",
      "INFO - 02:46:16: EPOCH - 30 : training on 120900149 raw words (32755955 effective words) took 174.9s, 187316 effective words/s\n",
      "INFO - 02:46:16: training on a 3627004470 raw words (982636220 effective words) took 5489.4s, 179006 effective words/s\n"
     ]
    },
    {
     "name": "stdout",
     "output_type": "stream",
     "text": [
      "CPU times: user 2h 53min 17s, sys: 48.2 s, total: 2h 54min 5s\n",
      "Wall time: 1h 31min 29s\n"
     ]
    },
    {
     "data": {
      "text/plain": [
       "(982636220, 3627004470)"
      ]
     },
     "execution_count": 9,
     "metadata": {
      "tags": []
     },
     "output_type": "execute_result"
    }
   ],
   "source": [
    "%%time\n",
    "w2v_model.train(reviews_streaming_obj, total_examples=w2v_model.corpus_count, epochs=30, report_delay=600)"
   ]
  },
  {
   "cell_type": "code",
   "execution_count": null,
   "metadata": {
    "colab": {
     "base_uri": "https://localhost:8080/",
     "height": 173
    },
    "colab_type": "code",
    "id": "b1Ac9K-8x1IL",
    "outputId": "9ae30a71-ca4f-4834-9bcf-1df3e821dc32"
   },
   "outputs": [
    {
     "name": "stderr",
     "output_type": "stream",
     "text": [
      "INFO - 03:09:45: saving Word2Vec object under w2v_model.model, separately None\n",
      "INFO - 03:09:45: storing np array 'vectors' to w2v_model.model.wv.vectors.npy\n",
      "INFO - 03:09:45: not storing attribute vectors_norm\n",
      "INFO - 03:09:45: storing np array 'syn1neg' to w2v_model.model.trainables.syn1neg.npy\n",
      "INFO - 03:09:45: not storing attribute cum_table\n",
      "/usr/local/lib/python3.6/dist-packages/smart_open/smart_open_lib.py:402: UserWarning: This function is deprecated, use smart_open.open instead. See the migration notes for details: https://github.com/RaRe-Technologies/smart_open/blob/master/README.rst#migrating-to-the-new-open-function\n",
      "  'See the migration notes for details: %s' % _MIGRATION_NOTES_URL\n",
      "INFO - 03:09:46: saved w2v_model.model\n"
     ]
    }
   ],
   "source": [
    "#Saving the model so I don't have to retrain everytime I need it\n",
    "w2v_model.save('w2v_model.model')"
   ]
  },
  {
   "cell_type": "code",
   "execution_count": 4,
   "metadata": {
    "colab": {
     "base_uri": "https://localhost:8080/",
     "height": 190
    },
    "colab_type": "code",
    "id": "dVQ3gOnr0gSN",
    "outputId": "55b3f35c-77bc-4f17-a0fd-5a9aa295c932"
   },
   "outputs": [
    {
     "name": "stderr",
     "output_type": "stream",
     "text": [
      "INFO - 18:32:41: loading Word2VecKeyedVectors object from /content/drive/Shared drives/project_reboot/w2v_model.model\n",
      "INFO - 18:32:42: loading wv recursively from /content/drive/Shared drives/project_reboot/w2v_model.model.wv.* with mmap=None\n",
      "INFO - 18:32:42: loading vectors from /content/drive/Shared drives/project_reboot/w2v_model.model.wv.vectors.npy with mmap=None\n",
      "INFO - 18:32:47: setting ignored attribute vectors_norm to None\n",
      "INFO - 18:32:47: loading vocabulary recursively from /content/drive/Shared drives/project_reboot/w2v_model.model.vocabulary.* with mmap=None\n",
      "INFO - 18:32:47: loading trainables recursively from /content/drive/Shared drives/project_reboot/w2v_model.model.trainables.* with mmap=None\n",
      "INFO - 18:32:47: loading syn1neg from /content/drive/Shared drives/project_reboot/w2v_model.model.trainables.syn1neg.npy with mmap=None\n",
      "INFO - 18:32:49: setting ignored attribute cum_table to None\n",
      "INFO - 18:32:49: loaded /content/drive/Shared drives/project_reboot/w2v_model.model\n"
     ]
    }
   ],
   "source": [
    "#Reading the model in from a saved checkpoint to make sure it works\n",
    "w2v_model = KeyedVectors.load('/content/drive/Shared drives/project_reboot/w2v_model.model')"
   ]
  },
  {
   "cell_type": "code",
   "execution_count": 5,
   "metadata": {
    "colab": {
     "base_uri": "https://localhost:8080/",
     "height": 34
    },
    "colab_type": "code",
    "id": "HQUm_o4eVe4g",
    "outputId": "1cd4ce8c-da50-4dff-fadf-9d8ca1b17419"
   },
   "outputs": [
    {
     "name": "stderr",
     "output_type": "stream",
     "text": [
      "INFO - 18:32:52: precomputing L2-norms of word weight vectors\n"
     ]
    }
   ],
   "source": [
    "w2v_model.init_sims(replace=True)"
   ]
  },
  {
   "cell_type": "markdown",
   "metadata": {
    "colab_type": "text",
    "id": "SJaGkIxjkgG1"
   },
   "source": [
    "#### Semantic Relationships Learnt"
   ]
  },
  {
   "cell_type": "code",
   "execution_count": 6,
   "metadata": {
    "colab": {
     "base_uri": "https://localhost:8080/",
     "height": 187
    },
    "colab_type": "code",
    "id": "e9HsAp8w0JYd",
    "outputId": "674eab0e-0663-4d93-b7be-f353b877f6db"
   },
   "outputs": [
    {
     "data": {
      "text/plain": [
       "[('my_favorites', 0.8050839900970459),\n",
       " ('my_absolute_favorite', 0.7789055109024048),\n",
       " ('my_favourite', 0.7606984972953796),\n",
       " ('time_favorite', 0.7289739847183228),\n",
       " ('my_fave', 0.6983364820480347),\n",
       " ('my_favorite_movies', 0.6981374025344849),\n",
       " ('my_fav', 0.6887920498847961),\n",
       " ('favorite', 0.6759970188140869),\n",
       " ('my_personal_favorite', 0.6537666320800781),\n",
       " ('best', 0.6502704620361328)]"
      ]
     },
     "execution_count": 6,
     "metadata": {
      "tags": []
     },
     "output_type": "execute_result"
    }
   ],
   "source": [
    "#Sanity checks and interesting semantic relationships learned from the data\n",
    "w2v_model.wv.most_similar(positive=[\"my_favorite\"])"
   ]
  },
  {
   "cell_type": "code",
   "execution_count": 7,
   "metadata": {
    "colab": {
     "base_uri": "https://localhost:8080/",
     "height": 187
    },
    "colab_type": "code",
    "id": "nYerjKJM0Smg",
    "outputId": "a2b2a03e-5223-4a53-e0cf-896cd28aa7fc"
   },
   "outputs": [
    {
     "data": {
      "text/plain": [
       "[('binge_watch', 0.7673718333244324),\n",
       " ('totally_hooked', 0.758269190788269),\n",
       " ('completely_hooked', 0.7378453612327576),\n",
       " ('binge_watched', 0.7272394895553589),\n",
       " ('season_downton_abbey', 0.7261769771575928),\n",
       " ('first_three_seasons', 0.7116433382034302),\n",
       " ('nd_season', 0.7020031809806824),\n",
       " ('greys_anatomy', 0.6972978115081787),\n",
       " ('downtown_abbey', 0.6953797936439514),\n",
       " ('all_three_seasons', 0.6949156522750854)]"
      ]
     },
     "execution_count": 7,
     "metadata": {
      "tags": []
     },
     "output_type": "execute_result"
    }
   ],
   "source": [
    "w2v_model.wv.most_similar(positive=[\"binge_watching\"])"
   ]
  },
  {
   "cell_type": "code",
   "execution_count": 8,
   "metadata": {
    "colab": {
     "base_uri": "https://localhost:8080/",
     "height": 187
    },
    "colab_type": "code",
    "id": "GzH2oMiS0ZK5",
    "outputId": "cd7cf3ad-1752-4ea4-a2ac-3dc8e8feca11"
   },
   "outputs": [
    {
     "data": {
      "text/plain": [
       "[('just_plain_bad', 0.8141302466392517),\n",
       " ('awful', 0.7975217700004578),\n",
       " ('terrible', 0.787720263004303),\n",
       " ('horrible', 0.7856554388999939),\n",
       " ('just_plain_stupid', 0.7272831201553345),\n",
       " ('absolutely_horrible', 0.7081621885299683),\n",
       " ('ok', 0.7052563428878784),\n",
       " ('lousy', 0.6993155479431152),\n",
       " ('okay', 0.6847406625747681),\n",
       " ('lame', 0.6807540655136108)]"
      ]
     },
     "execution_count": 8,
     "metadata": {
      "tags": []
     },
     "output_type": "execute_result"
    }
   ],
   "source": [
    "w2v_model.wv.most_similar(positive=[\"bad\"])"
   ]
  },
  {
   "cell_type": "code",
   "execution_count": 9,
   "metadata": {
    "colab": {
     "base_uri": "https://localhost:8080/",
     "height": 187
    },
    "colab_type": "code",
    "id": "vG_IHGR72m8P",
    "outputId": "854ff03d-c8be-48ac-bfbc-7d32de949c18"
   },
   "outputs": [
    {
     "data": {
      "text/plain": [
       "[('pretty_good', 0.795197606086731),\n",
       " ('great', 0.7902939319610596),\n",
       " ('decent', 0.7540290355682373),\n",
       " ('nice', 0.7045883536338806),\n",
       " ('ok', 0.6878832578659058),\n",
       " ('really', 0.6769078969955444),\n",
       " ('overall', 0.6690922975540161),\n",
       " ('pretty_decent', 0.6690086126327515),\n",
       " ('well_do_note', 0.6605881452560425),\n",
       " ('bad', 0.6579551696777344)]"
      ]
     },
     "execution_count": 9,
     "metadata": {
      "tags": []
     },
     "output_type": "execute_result"
    }
   ],
   "source": [
    "w2v_model.wv.most_similar(positive=[\"good\"])"
   ]
  },
  {
   "cell_type": "code",
   "execution_count": 10,
   "metadata": {
    "colab": {
     "base_uri": "https://localhost:8080/",
     "height": 187
    },
    "colab_type": "code",
    "id": "tLDVNMBG2w-B",
    "outputId": "a8003696-05b6-4d98-ea5f-e3791e57fbf3"
   },
   "outputs": [
    {
     "data": {
      "text/plain": [
       "[('would_recommend', 0.8885911107063293),\n",
       " ('highly_recommend', 0.850683331489563),\n",
       " ('reccomend', 0.8104580640792847),\n",
       " ('reccommend', 0.8082064390182495),\n",
       " ('strongly_recommend', 0.8040860891342163),\n",
       " ('would_definitely_recommend', 0.78799968957901),\n",
       " ('definitely_recommend', 0.7866452932357788),\n",
       " ('would_reccomend', 0.7837949991226196),\n",
       " ('recomend', 0.7695114016532898),\n",
       " ('recommended', 0.7684078216552734)]"
      ]
     },
     "execution_count": 10,
     "metadata": {
      "tags": []
     },
     "output_type": "execute_result"
    }
   ],
   "source": [
    "w2v_model.wv.most_similar(positive=[\"recommend\"])"
   ]
  },
  {
   "cell_type": "code",
   "execution_count": 11,
   "metadata": {
    "colab": {
     "base_uri": "https://localhost:8080/",
     "height": 187
    },
    "colab_type": "code",
    "id": "ATqxl_i02-8-",
    "outputId": "d7194acd-7a5d-467f-bad0-4edb9c5af7a3"
   },
   "outputs": [
    {
     "data": {
      "text/plain": [
       "[('complete_waste', 0.859575629234314),\n",
       " ('total_waste', 0.8391444683074951),\n",
       " ('wasting', 0.8030617833137512),\n",
       " ('not_waste_your', 0.7795653343200684),\n",
       " ('wasted', 0.7519956827163696),\n",
       " ('waste_your_time', 0.7184380292892456),\n",
       " ('save_your', 0.6932880282402039),\n",
       " ('waist_your', 0.6686539649963379),\n",
       " ('save_yourself', 0.6562254428863525),\n",
       " ('wasted_hours', 0.6559141874313354)]"
      ]
     },
     "execution_count": 11,
     "metadata": {
      "tags": []
     },
     "output_type": "execute_result"
    }
   ],
   "source": [
    "w2v_model.wv.most_similar(positive=[\"waste\"])"
   ]
  },
  {
   "cell_type": "markdown",
   "metadata": {
    "colab_type": "text",
    "id": "_MtYz0QE_JwI"
   },
   "source": [
    "#### Observation\n",
    "Our embeddings seem to have captured the semantic relationships we would have expected to see, by grouping words used in similar contexts together.So much so that erroneous spellings did not matter and the embeddings grouped the same word with different spellings together in the embedded space based on the context they were used in. The embeddings aren't flawless though, since they did capture some noise such as putting 'downtown abbey' semantically similar to 'binge_watching' but overall I am happy with the result."
   ]
  },
  {
   "cell_type": "markdown",
   "metadata": {
    "colab_type": "text",
    "id": "72B64CAokgHD"
   },
   "source": [
    "#### Review Score Distribution"
   ]
  },
  {
   "cell_type": "code",
   "execution_count": null,
   "metadata": {
    "colab": {},
    "colab_type": "code",
    "id": "-u_1nqqz5mhw"
   },
   "outputs": [],
   "source": [
    "import pandas as pd \n",
    "import numpy as np\n",
    "data = pd.read_csv('/content/drive/Shared drives/project_reboot/amazon_movies_and_tv_reviewsM.csv')"
   ]
  },
  {
   "cell_type": "code",
   "execution_count": null,
   "metadata": {
    "colab": {
     "base_uri": "https://localhost:8080/",
     "height": 575
    },
    "colab_type": "code",
    "id": "k-BDCQQVn0Ka",
    "outputId": "ce60ad6e-dc00-48bd-b3e4-650407dea750"
   },
   "outputs": [
    {
     "data": {
      "image/png": "[encoded data removed]",
      "text/plain": [
       "<Figure size 720x720 with 1 Axes>"
      ]
     },
     "metadata": {
      "tags": []
     },
     "output_type": "display_data"
    }
   ],
   "source": [
    "#Quickly checking the distribution of review score to establish baselines\n",
    "import matplotlib.pyplot as plt \n",
    "import seaborn as sns \n",
    "#Group dataframe by rating \n",
    "ratings_distribution = data[['asin','overall']] \\\n",
    ".groupby('overall') \\\n",
    ".count() \\\n",
    ".reset_index() \\\n",
    ".rename( columns = {'asin':'count'} )\n",
    "#visualize distributions using a doughnut plot \n",
    "f,ax = plt.subplots( figsize = (10,10) )\n",
    "names =  [ '1 Star', '2 Stars', '3 Stars', '4 Stars', '5 Stars' ]\n",
    "size = list( ratings_distribution['count'] )\n",
    "my_circle = plt.Circle( (0,0), 0.7, color = 'white' )\n",
    "plt.pie( size, labels = names, wedgeprops = { 'linewidth' : 7, 'edgecolor' : 'white' }, colors=['yellow','green','orange','blue', 'red'],\n",
    "       textprops={'fontsize': 14})\n",
    "p = plt.gcf()\n",
    "p.gca().add_artist(my_circle)\n",
    "plt.show()"
   ]
  },
  {
   "cell_type": "markdown",
   "metadata": {
    "colab_type": "text",
    "id": "_Z7dvCW5Aohk"
   },
   "source": [
    "## Modelling\n",
    "#### Baselines\n",
    "Before we get into any kind of modelling it is important that we establish some baselines to compare our model to. I'm going to use two baseline models to show that my C-LSTM has value to add that surpasses the baselines in this sentiment classification task. \n",
    "\n",
    "\n",
    "*   Base Line 1: Model that always predict the majority class. Accuracy=63.49%\n",
    "*   Base Line 2: My simple Naive Bayes Model that uses bi-grams with tf-idf embeddings. Accuracy=67.30%\n",
    "\n",
    "#### Keras Preprocessing \n",
    "Our model requires each input, for  us that's each review to be of the same length and we also plan on fine tuning the embeddings while we are training our model as done in the Zhou et al. research paper. Hence we're going to use the Keras tokenizer to map each word in our vocabulary (after putting a cap on the number of words based on the frequency of each word as put out by our word2vec model) to a unique index and then we'll use maxlen to make every review the same length by either padding from the front or truncating from the front based on the legth of each review. So the shape of our dataset would be (number of reviews, 100)\n",
    "##### Embedding Matrix \n",
    "Once every word is assigned a unique index , we can create an embeddig matrix for every word in our truncated vocabulary. Every row in the matrix would be a unique word as determined by it's index from our tokenizer and it's columns would be the 300 features as output by our word2vec model so it's shape would be (number of words, 300). This embedding matrix will then become the first layer in our C-LSTM and it's embedding values will be updated using back propogation during training just like all the other parameters in the model.\n",
    "\n"
   ]
  },
  {
   "cell_type": "markdown",
   "metadata": {
    "colab_type": "text",
    "id": "DbykyQIMkgHK"
   },
   "source": [
    "#### Toekinizing and Padding"
   ]
  },
  {
   "cell_type": "code",
   "execution_count": 14,
   "metadata": {
    "colab": {
     "base_uri": "https://localhost:8080/",
     "height": 51
    },
    "colab_type": "code",
    "id": "GETvNt7irExv",
    "outputId": "9c94a622-1bed-4921-e3bf-f6abcc1a37af"
   },
   "outputs": [
    {
     "name": "stdout",
     "output_type": "stream",
     "text": [
      "CPU times: user 2min 22s, sys: 1.62 s, total: 2min 23s\n",
      "Wall time: 2min 24s\n"
     ]
    }
   ],
   "source": [
    "%%time\n",
    "from keras.preprocessing.text import Tokenizer\n",
    "from keras.preprocessing.sequence import pad_sequences\n",
    "#Using the keras tokenizer to convert each word/phrase to a unique index\n",
    "reviews_streaming_obj = LineSentence('/content/drive/Shared drives/project_reboot/reviews_phrases2.txt')\n",
    "tokenizer = Tokenizer(num_words = 103771)\n",
    "tokenizer.fit_on_texts(reviews_streaming_obj)\n",
    "sequences = tokenizer.texts_to_sequences(reviews_streaming_obj)\n",
    "#Padding and Truncating observations to get them to the same size so they can be fed \n",
    "#to our model which has an LSTM component since it requires inputs to be the same size\n",
    "sequences = pad_sequences(sequences, maxlen = 100, padding = 'pre', truncating = 'pre')"
   ]
  },
  {
   "cell_type": "code",
   "execution_count": 19,
   "metadata": {
    "colab": {
     "base_uri": "https://localhost:8080/",
     "height": 204
    },
    "colab_type": "code",
    "id": "dXP5v-lBq5fm",
    "outputId": "92c66aa0-d536-4a9c-e6e1-c3d15c7a540a"
   },
   "outputs": [
    {
     "name": "stdout",
     "output_type": "stream",
     "text": [
      "Shape of our data after tokeninizing and padding: (1046025, 100)\n",
      "\n",
      "Data:\n",
      "\n"
     ]
    },
    {
     "data": {
      "text/plain": [
       "array([[  249,     1, 19150, ...,    40,  2444,   295],\n",
       "       [    0,     0,     0, ...,    45,    54, 97310],\n",
       "       [    0,     0,     0, ...,    64,  1463,   516],\n",
       "       ...,\n",
       "       [    0,     0,     0, ...,     1,  1043,    58],\n",
       "       [    0,     0,     0, ...,    23,   146, 14283],\n",
       "       [    0,     0,     0, ...,    11, 80446, 26663]], dtype=int32)"
      ]
     },
     "execution_count": 19,
     "metadata": {
      "tags": []
     },
     "output_type": "execute_result"
    }
   ],
   "source": [
    "#How each observation looks after being tokenized with keras\n",
    "#Each word in each review is represented by a unique index\n",
    "#The zeros are the paddings for the sentences that were shorter\n",
    "#than maxlen = 100\n",
    "print('Shape of our data after tokeninizing and padding: {}\\n'.format(sequences.shape))\n",
    "print('Data:\\n')\n",
    "sequences"
   ]
  },
  {
   "cell_type": "markdown",
   "metadata": {
    "colab_type": "text",
    "id": "_zhiuYgVkgHR"
   },
   "source": [
    "#### Embedding Matrix"
   ]
  },
  {
   "cell_type": "code",
   "execution_count": 1,
   "metadata": {
    "colab": {},
    "colab_type": "code",
    "id": "Souk3kTRwR2j"
   },
   "outputs": [],
   "source": [
    "import numpy as np\n",
    "#Creating an embedding matrix using the word2vec embeddings \n",
    "#and later we'll fine tune them by adding the matrix as an \n",
    "#embedding layer in our model\n",
    "def create_embedding_lookup(model):\n",
    "    embedding_lookup = {}\n",
    "    for word in model.wv.vocab.keys():\n",
    "        embedding_lookup[word] = model.wv[word]\n",
    "    return embedding_lookup\n",
    "\n",
    "def create_embedding_matrix(tokenizer_obj, embedding_lookup, num_words = 103771):\n",
    "    embedding_matrix = np.zeros((num_words,300))\n",
    "    for word, i in tokenizer_obj.word_index.items():\n",
    "        if i >= num_words:\n",
    "            break\n",
    "        embedding_vector = embedding_lookup.get(word)\n",
    "        if embedding_vector is not None:\n",
    "            embedding_matrix[i] = embedding_vector\n",
    "    return embedding_matrix    "
   ]
  },
  {
   "cell_type": "code",
   "execution_count": 17,
   "metadata": {
    "colab": {
     "base_uri": "https://localhost:8080/",
     "height": 51
    },
    "colab_type": "code",
    "id": "IAf2FUnv1aYy",
    "outputId": "3eea4119-c6a4-48a8-b2b6-60dcdd177698"
   },
   "outputs": [
    {
     "name": "stdout",
     "output_type": "stream",
     "text": [
      "CPU times: user 352 ms, sys: 94.9 ms, total: 447 ms\n",
      "Wall time: 450 ms\n"
     ]
    }
   ],
   "source": [
    "%%time \n",
    "embedding_matrix = create_embedding_matrix( tokenizer,\n",
    "                                           create_embedding_lookup(w2v_model) ) "
   ]
  },
  {
   "cell_type": "code",
   "execution_count": 21,
   "metadata": {
    "colab": {
     "base_uri": "https://localhost:8080/",
     "height": 306
    },
    "colab_type": "code",
    "id": "-LPoRQKkDXbQ",
    "outputId": "99f03df7-6beb-406a-c41f-50bc5fa510b5"
   },
   "outputs": [
    {
     "name": "stdout",
     "output_type": "stream",
     "text": [
      "Shape of Embedding Matrix: (103771, 300)\n",
      "\n",
      "Embedding Matrix\n",
      "\n"
     ]
    },
    {
     "data": {
      "text/plain": [
       "array([[ 0.        ,  0.        ,  0.        , ...,  0.        ,\n",
       "         0.        ,  0.        ],\n",
       "       [ 0.04923916, -0.02960364, -0.04654313, ...,  0.08607096,\n",
       "        -0.06658344, -0.03600369],\n",
       "       [ 0.11081685,  0.02431645, -0.01121885, ..., -0.02367711,\n",
       "        -0.07412444, -0.11573192],\n",
       "       ...,\n",
       "       [-0.02555856,  0.06159121, -0.01665044, ...,  0.04409704,\n",
       "        -0.00111578,  0.01901171],\n",
       "       [ 0.07118265, -0.01440032, -0.00929476, ...,  0.08228488,\n",
       "        -0.10032626,  0.0761658 ],\n",
       "       [-0.00830507,  0.00577912,  0.04912167, ...,  0.0137641 ,\n",
       "        -0.00216097, -0.00191563]])"
      ]
     },
     "execution_count": 21,
     "metadata": {
      "tags": []
     },
     "output_type": "execute_result"
    }
   ],
   "source": [
    "print(\"Shape of Embedding Matrix: {}\\n\".format(embedding_matrix.shape))\n",
    "print(\"Embedding Matrix\\n\")\n",
    "embedding_matrix"
   ]
  },
  {
   "cell_type": "markdown",
   "metadata": {
    "colab_type": "text",
    "id": "JuHbf-rGkgHZ"
   },
   "source": [
    "#### One Hot Encoding Labels & Splitting Data into Train and Validation Sets"
   ]
  },
  {
   "cell_type": "code",
   "execution_count": null,
   "metadata": {
    "colab": {},
    "colab_type": "code",
    "id": "aLAaO2GK-1Eb"
   },
   "outputs": [],
   "source": [
    "import pandas as pd\n",
    "from sklearn.model_selection import train_test_split\n",
    "from sklearn.preprocessing import OneHotEncoder\n",
    "from sklearn.metrics import roc_curve, auc\n",
    "from keras.models import Sequential \n",
    "from keras.layers import Embedding, Dropout, Conv1D, LSTM, Dense\n",
    "from keras.regularizers import l2\n",
    "from keras.models import load_model\n",
    "import matplotlib.pyplot as plt\n",
    "from itertools import cycle"
   ]
  },
  {
   "cell_type": "code",
   "execution_count": null,
   "metadata": {
    "colab": {},
    "colab_type": "code",
    "id": "GavzW93P_IzD"
   },
   "outputs": [],
   "source": [
    "X = sequences\n",
    "data = pd.read_csv('/content/drive/Shared drives/project_reboot/amazon_movies_and_tv_reviewsM.csv')\n",
    "y = data.dropna().drop([580670,875199])[['overall']].values\n",
    "one_hot_encoder = OneHotEncoder(categories='auto',sparse=False)\n",
    "y = one_hot_encoder.fit_transform(y)\n",
    "X_train,X_val,y_train,y_val = train_test_split(X,y,test_size=0.05,random_state=21)\n",
    "del data"
   ]
  },
  {
   "cell_type": "code",
   "execution_count": 24,
   "metadata": {
    "colab": {
     "base_uri": "https://localhost:8080/",
     "height": 170
    },
    "colab_type": "code",
    "id": "RQaDq08m_dzW",
    "outputId": "55599f26-d562-4315-9589-8a0f3aa7bd03"
   },
   "outputs": [
    {
     "name": "stdout",
     "output_type": "stream",
     "text": [
      "X Train Shape: (993723, 100)\n",
      "\n"
     ]
    },
    {
     "data": {
      "text/plain": [
       "array([[    0,     0,     0, ..., 10087,    12,    86],\n",
       "       [ 2062,    28,     4, ...,   209,    41,  7135],\n",
       "       [    0,     0,     0, ...,    38, 99987, 52023],\n",
       "       ...,\n",
       "       [    0,     0,     0, ...,     9,     3, 50356],\n",
       "       [    0,     0,     0, ...,    27,   336,  8674],\n",
       "       [  247,   487,    44, ...,     1,    60,  1263]], dtype=int32)"
      ]
     },
     "execution_count": 24,
     "metadata": {
      "tags": []
     },
     "output_type": "execute_result"
    }
   ],
   "source": [
    "#Sanity check\n",
    "print(\"X Train Shape: {}\\n\".format(X_train.shape))\n",
    "X_train"
   ]
  },
  {
   "cell_type": "code",
   "execution_count": 25,
   "metadata": {
    "colab": {
     "base_uri": "https://localhost:8080/",
     "height": 170
    },
    "colab_type": "code",
    "id": "pkjoQ3itAA6h",
    "outputId": "dfbaef26-f4f8-4b0f-f9ed-2c6194e533bb"
   },
   "outputs": [
    {
     "name": "stdout",
     "output_type": "stream",
     "text": [
      "y Train Shape: (993723, 5)\n",
      "\n"
     ]
    },
    {
     "data": {
      "text/plain": [
       "array([[0., 0., 0., 0., 1.],\n",
       "       [0., 0., 0., 0., 1.],\n",
       "       [1., 0., 0., 0., 0.],\n",
       "       ...,\n",
       "       [0., 0., 0., 0., 1.],\n",
       "       [0., 0., 0., 0., 1.],\n",
       "       [0., 0., 0., 0., 1.]])"
      ]
     },
     "execution_count": 25,
     "metadata": {
      "tags": []
     },
     "output_type": "execute_result"
    }
   ],
   "source": [
    "#Sanity check\n",
    "print(\"y Train Shape: {}\\n\".format(y_train.shape))\n",
    "y_train"
   ]
  },
  {
   "cell_type": "code",
   "execution_count": 26,
   "metadata": {
    "colab": {
     "base_uri": "https://localhost:8080/",
     "height": 170
    },
    "colab_type": "code",
    "id": "tLNVPMc1Uuxt",
    "outputId": "71c4e229-8d12-4812-bec4-658cc39e9bee"
   },
   "outputs": [
    {
     "name": "stdout",
     "output_type": "stream",
     "text": [
      "X Validation Shape: (52302, 100)\n",
      "\n"
     ]
    },
    {
     "data": {
      "text/plain": [
       "array([[    0,     0,     0, ...,   113,    14,    24],\n",
       "       [    0,     0,     0, ...,    60,    12,   804],\n",
       "       [    0,     0,     0, ...,  1180,   379,   132],\n",
       "       ...,\n",
       "       [    0,     0,     0, ...,   149,     3,  5525],\n",
       "       [    1,    78,   356, ..., 22479,    40,  8791],\n",
       "       [    0,     0,     0, ..., 51830,  4726,   321]], dtype=int32)"
      ]
     },
     "execution_count": 26,
     "metadata": {
      "tags": []
     },
     "output_type": "execute_result"
    }
   ],
   "source": [
    "#Sanity check\n",
    "print(\"X Validation Shape: {}\\n\".format(X_val.shape))\n",
    "X_val"
   ]
  },
  {
   "cell_type": "code",
   "execution_count": 27,
   "metadata": {
    "colab": {
     "base_uri": "https://localhost:8080/",
     "height": 170
    },
    "colab_type": "code",
    "id": "VJcBovepVGw5",
    "outputId": "85a6bd3f-b985-4f64-f439-3f3f041b5f46"
   },
   "outputs": [
    {
     "name": "stdout",
     "output_type": "stream",
     "text": [
      "y Validation Shape: (52302, 5)\n",
      "\n"
     ]
    },
    {
     "data": {
      "text/plain": [
       "array([[0., 0., 0., 1., 0.],\n",
       "       [0., 0., 0., 0., 1.],\n",
       "       [0., 0., 0., 1., 0.],\n",
       "       ...,\n",
       "       [0., 0., 0., 0., 1.],\n",
       "       [0., 0., 0., 0., 1.],\n",
       "       [0., 0., 0., 0., 1.]])"
      ]
     },
     "execution_count": 27,
     "metadata": {
      "tags": []
     },
     "output_type": "execute_result"
    }
   ],
   "source": [
    "#Sanity check\n",
    "print(\"y Validation Shape: {}\\n\".format(y_val.shape))\n",
    "y_val"
   ]
  },
  {
   "cell_type": "markdown",
   "metadata": {
    "colab_type": "text",
    "id": "ecTdmgZckgHr"
   },
   "source": [
    "## Model Architecture\n",
    "The model architecture I have used is exactly as described in \"A C-LSTM Neural Network for Text Classification\", by Xu et al. 2015\n",
    "#### Layer 1: Embedding Layer\n",
    " * The embedding layer acts as a lookup for the 300 dimensional embeddings for each word in every input document as output by the Word2Vec model we trained above. These embeddings are further fine-tuned during the training of the model through back propogation just like every other parameter in the model.\n",
    " \n",
    "#### Layer 2: 1D Convolution Layer\n",
    " * The 1D convolution layer has size 3 and stride 1, so as it convolves over the words in a document it essentially captures feature maps from tri-grams in every input document. It has 150 filters and uses Relu activation with a bias term. \n",
    " * Dropped out with 50% probability\n",
    " \n",
    "#### Layer 3: LSTM Layer\n",
    "* The feature maps from every window of size 3 (tri-grams) from the document are then used as input to it's approproate LSTM Unit. We're using 150 nodes per LSTM unit. The output of this layer is the hidden unit of the last LSTM unit which is regarded as the document representation of the input by the authors.\n",
    "* Dropped out with 50% probability\n",
    "\n",
    "#### Layer 4: Softmax Layer\n",
    "* The output of the last LSTM unit is then used as input to the last softmax layer since we're dealing with a multi-class classification problem, with 5 classes. \n",
    "* L2 Regualrized with parameter = 0.001\n",
    "\n",
    "<br>\n",
    "\n",
    "<img src=\"c_lstm_architecture.jpg\">"
   ]
  },
  {
   "cell_type": "code",
   "execution_count": 36,
   "metadata": {
    "colab": {
     "base_uri": "https://localhost:8080/",
     "height": 357
    },
    "colab_type": "code",
    "id": "_agw0kxEVRtn",
    "outputId": "63ce7a92-ce2b-4f1e-c38d-484b925133ab"
   },
   "outputs": [
    {
     "name": "stdout",
     "output_type": "stream",
     "text": [
      "Model: \"sequential_6\"\n",
      "_________________________________________________________________\n",
      "Layer (type)                 Output Shape              Param #   \n",
      "=================================================================\n",
      "embedding_6 (Embedding)      (None, 100, 300)          31131300  \n",
      "_________________________________________________________________\n",
      "conv1d_6 (Conv1D)            (None, 98, 150)           135150    \n",
      "_________________________________________________________________\n",
      "dropout_11 (Dropout)         (None, 98, 150)           0         \n",
      "_________________________________________________________________\n",
      "lstm_6 (LSTM)                (None, 150)               180600    \n",
      "_________________________________________________________________\n",
      "dropout_12 (Dropout)         (None, 150)               0         \n",
      "_________________________________________________________________\n",
      "dense_6 (Dense)              (None, 5)                 755       \n",
      "=================================================================\n",
      "Total params: 31,447,805\n",
      "Trainable params: 31,447,805\n",
      "Non-trainable params: 0\n",
      "_________________________________________________________________\n"
     ]
    }
   ],
   "source": [
    "c_lstm = Sequential()\n",
    "c_lstm.add(Embedding(103771,300,weights=[embedding_matrix],input_length=100,trainable=True))\n",
    "c_lstm.add(Conv1D(filters=150,kernel_size=3,activation='relu',use_bias=True))\n",
    "c_lstm.add(Dropout(rate=0.5))\n",
    "c_lstm.add(LSTM(150,return_sequences=False,return_state=False))\n",
    "c_lstm.add(Dropout(rate=0.5))\n",
    "c_lstm.add(Dense(5,activation='softmax',kernel_regularizer=l2(0.001)))\n",
    "c_lstm.summary()"
   ]
  },
  {
   "cell_type": "markdown",
   "metadata": {
    "colab_type": "text",
    "id": "u6m6xBhEkgHx"
   },
   "source": [
    "#### Compiling and Training the Model"
   ]
  },
  {
   "cell_type": "code",
   "execution_count": null,
   "metadata": {
    "colab": {},
    "colab_type": "code",
    "id": "UTmwTh06b9hU"
   },
   "outputs": [],
   "source": [
    "c_lstm.compile(loss='categorical_crossentropy',\n",
    "              optimizer='adam',\n",
    "              metrics=['accuracy'])"
   ]
  },
  {
   "cell_type": "code",
   "execution_count": null,
   "metadata": {
    "colab": {
     "base_uri": "https://localhost:8080/",
     "height": 153
    },
    "colab_type": "code",
    "id": "cPP4Y10WcwJE",
    "outputId": "4b5be125-4f2e-4089-dee1-146f81f52ba2"
   },
   "outputs": [
    {
     "name": "stdout",
     "output_type": "stream",
     "text": [
      "Train on 993723 samples, validate on 52302 samples\n",
      "Epoch 1/2\n",
      "993723/993723 [==============================] - 2371s 2ms/step - loss: 0.7341 - acc: 0.7131 - val_loss: 0.6917 - val_acc: 0.7274\n",
      "Epoch 2/2\n",
      "993723/993723 [==============================] - 2356s 2ms/step - loss: 0.6710 - acc: 0.7357 - val_loss: 0.6957 - val_acc: 0.7266\n",
      "CPU times: user 1h 41min 59s, sys: 8min 2s, total: 1h 50min 1s\n",
      "Wall time: 1h 18min 47s\n"
     ]
    },
    {
     "data": {
      "text/plain": [
       "<keras.callbacks.History at 0x7fc028313f98>"
      ]
     },
     "execution_count": 23,
     "metadata": {
      "tags": []
     },
     "output_type": "execute_result"
    }
   ],
   "source": [
    "%%time\n",
    "c_lstm.fit(X_train, y_train,\n",
    "          batch_size=64, epochs=2, shuffle=False,\n",
    "          validation_data=(X_val, y_val))"
   ]
  },
  {
   "cell_type": "markdown",
   "metadata": {
    "colab_type": "text",
    "id": "P68dpeQmkgH3"
   },
   "source": [
    "#### Observation\n",
    "Our best score on validation is 72.74% on validation data which is almost 10% better than our baseline model 1 that always predicts the majority class and almost 6% better than my simpler Naive Bayes model with bi-grams tf-idf embeddings which we used as a second baseline model! Our model has more value to add to this problem."
   ]
  },
  {
   "cell_type": "code",
   "execution_count": null,
   "metadata": {
    "colab": {},
    "colab_type": "code",
    "id": "Qw8gKsNqdQ1w"
   },
   "outputs": [],
   "source": [
    "#Saving the model\n",
    "c_lstm.save('/content/drive/Shared drives/project_reboot/c_lstm.h5')"
   ]
  },
  {
   "cell_type": "markdown",
   "metadata": {
    "colab_type": "text",
    "id": "12kTk3W3kgII"
   },
   "source": [
    "#### Mutli Class ROC Curve"
   ]
  },
  {
   "cell_type": "code",
   "execution_count": null,
   "metadata": {
    "colab": {},
    "colab_type": "code",
    "id": "gE8QinAfpEKD"
   },
   "outputs": [],
   "source": [
    "#Load the model from the checkpoint\n",
    "c_lstm = load_model('/content/drive/Shared drives/project_reboot/c_lstm.h5')"
   ]
  },
  {
   "cell_type": "code",
   "execution_count": null,
   "metadata": {
    "colab": {
     "base_uri": "https://localhost:8080/",
     "height": 51
    },
    "colab_type": "code",
    "id": "Wqfl2DUAOMG3",
    "outputId": "130be0af-05cf-44d9-983e-177bb8cf05cb"
   },
   "outputs": [
    {
     "name": "stdout",
     "output_type": "stream",
     "text": [
      "CPU times: user 1min 58s, sys: 10.5 s, total: 2min 9s\n",
      "Wall time: 1min 29s\n"
     ]
    }
   ],
   "source": [
    "%%time\n",
    "y_pred = c_lstm.predict_classes(X_val)\n",
    "y_pred = one_hot_encoder.fit_transform(y_pred.reshape(-1,1))"
   ]
  },
  {
   "cell_type": "code",
   "execution_count": null,
   "metadata": {
    "colab": {
     "base_uri": "https://localhost:8080/",
     "height": 632
    },
    "colab_type": "code",
    "id": "jGLNcZC9is9g",
    "outputId": "e21220d8-0a16-4819-843c-994015de24bc"
   },
   "outputs": [
    {
     "data": {
      "image/png": "[encoded data removed]",
      "text/plain": [
       "<Figure size 720x720 with 1 Axes>"
      ]
     },
     "metadata": {
      "tags": []
     },
     "output_type": "display_data"
    }
   ],
   "source": [
    "# Compute ROC curve and ROC area for each class\n",
    "n_classes = 5\n",
    "fpr = {}\n",
    "tpr = {}\n",
    "roc_auc = {}\n",
    "for i in range(n_classes):\n",
    "    fpr[i], tpr[i], _ = roc_curve(y_val[:, i], y_pred[:, i])\n",
    "    roc_auc[i] = auc(fpr[i], tpr[i])\n",
    "colors = cycle(['aqua', 'darkorange', 'cornflowerblue','hotpink','crimson'])\n",
    "f,ax = plt.subplots( figsize = (10,10) )\n",
    "for i, color in zip(range(n_classes), colors):\n",
    "    plt.plot(fpr[i], tpr[i], color=color, lw=2,\n",
    "             label='ROC curve of class {0} (area = {1:0.2f})'\n",
    "             ''.format(i+1, roc_auc[i]))\n",
    "\n",
    "plt.plot([0, 1], [0, 1], 'k--', lw=2)\n",
    "plt.xlim([0.0, 1.0])\n",
    "plt.ylim([0.0, 1.05])\n",
    "plt.xlabel('False Positive Rate',fontsize=16)\n",
    "plt.ylabel('True Positive Rate',fontsize=16)\n",
    "plt.title('Multi-Class ROC Curve',fontsize=20)\n",
    "plt.legend(loc=\"lower right\")\n",
    "plt.show()"
   ]
  },
  {
   "cell_type": "markdown",
   "metadata": {
    "colab_type": "text",
    "id": "4VQrkveDkgIN"
   },
   "source": [
    "#### Obervation\n",
    "It's surprising that our model can separate 1 star reviews from other review well even with very low training examples. As expected it is also good at separating 5 star reviews from other reviews. The model struggles with distinguishing 2,3,4 star reviews from other reviews, as they seem to be a little neutral and even very subjective in most cases. Not as polarized as 1 star and 5-star reviews. The authors of the paper , also achieved state of the art results afte converting this probelm to binary with postive and negative labels. I'll go ahead and reduce the labels but I'll keep the problem multi class with labels - postive , negative and neutral. I am interested to see if the model is having trouble separating 2,3,4 reviews between each other or it's not as good with separating more neutral comments from polarized comments."
   ]
  },
  {
   "cell_type": "markdown",
   "metadata": {
    "colab_type": "text",
    "id": "X09av-ntkgIN"
   },
   "source": [
    "### Reducing classes and going again to see what kind of results we get"
   ]
  },
  {
   "cell_type": "markdown",
   "metadata": {
    "colab_type": "text",
    "id": "ZLXrmsKjkgIP"
   },
   "source": [
    "#### Baseline\n",
    " * Model that always predicts the majoirty class. Accuracy = 82%"
   ]
  },
  {
   "cell_type": "code",
   "execution_count": null,
   "metadata": {
    "colab": {},
    "colab_type": "code",
    "id": "grLZmkTnjoLr"
   },
   "outputs": [],
   "source": [
    "import pandas as pd \n",
    "import numpy as np\n",
    "data = pd.read_csv('/content/drive/Shared drives/project_reboot/amazon_movies_and_tv_reviewsM.csv')\n",
    "def reduce_classes(score):\n",
    "    if score == 1 or score == 2:\n",
    "        return 1\n",
    "    elif score == 3:\n",
    "        return 2\n",
    "    else:\n",
    "        return 3\n",
    "data['reduced_overall'] = data['overall'].apply(reduce_classes)"
   ]
  },
  {
   "cell_type": "code",
   "execution_count": 29,
   "metadata": {
    "colab": {
     "base_uri": "https://localhost:8080/",
     "height": 575
    },
    "colab_type": "code",
    "id": "4eEOb8Q7JIWE",
    "outputId": "984d04b4-103e-4aa8-d542-ca3f0101c637"
   },
   "outputs": [
    {
     "data": {
      "image/png": "[encoded data removed]",
      "text/plain": [
       "<Figure size 720x720 with 1 Axes>"
      ]
     },
     "metadata": {
      "tags": []
     },
     "output_type": "display_data"
    }
   ],
   "source": [
    "import matplotlib.pyplot as plt \n",
    "import seaborn as sns \n",
    "#Group dataframe by rating \n",
    "ratings_distribution = data[['asin','reduced_overall']] \\\n",
    ".groupby('reduced_overall') \\\n",
    ".count() \\\n",
    ".reset_index() \\\n",
    ".rename( columns = {'asin':'count'} )\n",
    "#visualize distributions using a doughnut plot \n",
    "f,ax = plt.subplots( figsize = (10,10) )\n",
    "names =  [ 'Negative', 'Neutral', 'Positive' ]\n",
    "size = list( ratings_distribution['count'] )\n",
    "my_circle = plt.Circle( (0,0), 0.7, color = 'white' )\n",
    "plt.pie( size, labels = names, wedgeprops = { 'linewidth' : 7, 'edgecolor' : 'white' }, colors=['red','yellow','green'],\n",
    "       textprops={'fontsize': 14})\n",
    "p = plt.gcf()\n",
    "p.gca().add_artist(my_circle)\n",
    "plt.show()"
   ]
  },
  {
   "cell_type": "markdown",
   "metadata": {
    "colab_type": "text",
    "id": "v08hPZugkgIU"
   },
   "source": [
    "#### Splitting the data into training and validation"
   ]
  },
  {
   "cell_type": "code",
   "execution_count": null,
   "metadata": {
    "colab": {},
    "colab_type": "code",
    "id": "lJhOVupJJNVz"
   },
   "outputs": [],
   "source": [
    "y = data.dropna().drop([580670,875199])[['reduced_overall']].values\n",
    "one_hot_encoder = OneHotEncoder(categories='auto',sparse=False)\n",
    "y = one_hot_encoder.fit_transform(y)\n",
    "X_train,X_val,y_train,y_val = train_test_split(X,y,test_size=0.05,random_state=21)\n",
    "del data"
   ]
  },
  {
   "cell_type": "code",
   "execution_count": 37,
   "metadata": {
    "colab": {
     "base_uri": "https://localhost:8080/",
     "height": 357
    },
    "colab_type": "code",
    "id": "UT0qe4KdKzAD",
    "outputId": "017113f8-7896-4a41-e5eb-4538087789ae"
   },
   "outputs": [
    {
     "name": "stdout",
     "output_type": "stream",
     "text": [
      "Model: \"sequential_7\"\n",
      "_________________________________________________________________\n",
      "Layer (type)                 Output Shape              Param #   \n",
      "=================================================================\n",
      "embedding_7 (Embedding)      (None, 100, 300)          31131300  \n",
      "_________________________________________________________________\n",
      "conv1d_7 (Conv1D)            (None, 98, 150)           135150    \n",
      "_________________________________________________________________\n",
      "dropout_13 (Dropout)         (None, 98, 150)           0         \n",
      "_________________________________________________________________\n",
      "lstm_7 (LSTM)                (None, 150)               180600    \n",
      "_________________________________________________________________\n",
      "dropout_14 (Dropout)         (None, 150)               0         \n",
      "_________________________________________________________________\n",
      "dense_7 (Dense)              (None, 3)                 453       \n",
      "=================================================================\n",
      "Total params: 31,447,503\n",
      "Trainable params: 31,447,503\n",
      "Non-trainable params: 0\n",
      "_________________________________________________________________\n"
     ]
    }
   ],
   "source": [
    "c_lstm_reduced = Sequential()\n",
    "c_lstm_reduced.add(Embedding(103771,300,weights=[embedding_matrix],input_length=100,trainable=True))\n",
    "c_lstm_reduced.add(Conv1D(filters=150,kernel_size=3,activation='relu',use_bias=True))\n",
    "c_lstm_reduced.add(Dropout(rate=0.5))\n",
    "c_lstm_reduced.add(LSTM(150,return_sequences=False,return_state=False))\n",
    "c_lstm_reduced.add(Dropout(rate=0.5))\n",
    "c_lstm_reduced.add(Dense(3,activation='softmax',kernel_regularizer=l2(0.001)))\n",
    "c_lstm_reduced.summary()"
   ]
  },
  {
   "cell_type": "markdown",
   "metadata": {
    "colab_type": "text",
    "id": "nrpQoh4akgIX"
   },
   "source": [
    "#### Compiling and Fitting the Model"
   ]
  },
  {
   "cell_type": "code",
   "execution_count": null,
   "metadata": {
    "colab": {},
    "colab_type": "code",
    "id": "gZd4zDkgK7Og"
   },
   "outputs": [],
   "source": [
    "c_lstm_reduced.compile(loss='categorical_crossentropy',\n",
    "              optimizer='adam',\n",
    "              metrics=['accuracy'])"
   ]
  },
  {
   "cell_type": "code",
   "execution_count": 41,
   "metadata": {
    "colab": {
     "base_uri": "https://localhost:8080/",
     "height": 153
    },
    "colab_type": "code",
    "id": "RJlpsvfXL4rn",
    "outputId": "6fdce7c2-7ffa-44c7-ff99-5bbeeb776988"
   },
   "outputs": [
    {
     "name": "stdout",
     "output_type": "stream",
     "text": [
      "Train on 993723 samples, validate on 52302 samples\n",
      "Epoch 1/2\n",
      "993723/993723 [==============================] - 2410s 2ms/step - loss: 0.3191 - acc: 0.8849 - val_loss: 0.2932 - val_acc: 0.8924\n",
      "Epoch 2/2\n",
      "993723/993723 [==============================] - 2396s 2ms/step - loss: 0.2752 - acc: 0.8995 - val_loss: 0.2932 - val_acc: 0.8927\n",
      "CPU times: user 1h 43min 49s, sys: 7min 51s, total: 1h 51min 41s\n",
      "Wall time: 1h 20min 6s\n"
     ]
    },
    {
     "data": {
      "text/plain": [
       "<keras.callbacks.History at 0x7ff6e73c06a0>"
      ]
     },
     "execution_count": 41,
     "metadata": {
      "tags": []
     },
     "output_type": "execute_result"
    }
   ],
   "source": [
    "%%time\n",
    "c_lstm_reduced.fit(X_train, y_train,\n",
    "          batch_size=64, epochs=2, shuffle=False,\n",
    "          validation_data=(X_val, y_val))"
   ]
  },
  {
   "cell_type": "markdown",
   "metadata": {
    "colab_type": "text",
    "id": "N254FPGFkgIc"
   },
   "source": [
    "We were able to achieve almost 90% accuracy on our validation data on this problem, which is 7% better than our baseline model."
   ]
  },
  {
   "cell_type": "code",
   "execution_count": null,
   "metadata": {
    "colab": {},
    "colab_type": "code",
    "id": "6h7xS9oTMB4M"
   },
   "outputs": [],
   "source": [
    "c_lstm_reduced.save('/content/drive/Shared drives/project_reboot/c_lstm_reduced.h5')"
   ]
  },
  {
   "cell_type": "markdown",
   "metadata": {
    "colab_type": "text",
    "id": "eyDvs48_kgIe"
   },
   "source": [
    "#### Mutli-Class ROC"
   ]
  },
  {
   "cell_type": "code",
   "execution_count": 44,
   "metadata": {
    "colab": {
     "base_uri": "https://localhost:8080/",
     "height": 51
    },
    "colab_type": "code",
    "id": "cv9doim4i1I-",
    "outputId": "2c70ccc6-7872-4190-c717-4d061b1e9da4"
   },
   "outputs": [
    {
     "name": "stdout",
     "output_type": "stream",
     "text": [
      "CPU times: user 1min 57s, sys: 11.1 s, total: 2min 9s\n",
      "Wall time: 1min 22s\n"
     ]
    }
   ],
   "source": [
    "%%time\n",
    "y_pred = c_lstm_reduced.predict_classes(X_val)\n",
    "y_pred = one_hot_encoder.fit_transform(y_pred.reshape(-1,1))"
   ]
  },
  {
   "cell_type": "code",
   "execution_count": 45,
   "metadata": {
    "colab": {
     "base_uri": "https://localhost:8080/",
     "height": 632
    },
    "colab_type": "code",
    "id": "N4Q25ZxYi41z",
    "outputId": "7704cc87-d36b-49a7-e8f3-260db25616e3"
   },
   "outputs": [
    {
     "data": {
      "image/png": "[encoded data removed]",
      "text/plain": [
       "<Figure size 720x720 with 1 Axes>"
      ]
     },
     "metadata": {
      "tags": []
     },
     "output_type": "display_data"
    }
   ],
   "source": [
    "# Compute ROC curve and ROC area for each class\n",
    "n_classes = 3\n",
    "fpr = {}\n",
    "tpr = {}\n",
    "roc_auc = {}\n",
    "for i in range(n_classes):\n",
    "    fpr[i], tpr[i], _ = roc_curve(y_val[:, i], y_pred[:, i])\n",
    "    roc_auc[i] = auc(fpr[i], tpr[i])\n",
    "colors = cycle(['aqua', 'darkorange', 'crimson'])\n",
    "f,ax = plt.subplots( figsize = (10,10) )\n",
    "for i, color in zip(range(n_classes), colors):\n",
    "    plt.plot(fpr[i], tpr[i], color=color, lw=2,\n",
    "             label='ROC curve of class {0} (area = {1:0.2f})'\n",
    "             ''.format(i+1, roc_auc[i]))\n",
    "\n",
    "plt.plot([0, 1], [0, 1], 'k--', lw=2)\n",
    "plt.xlim([0.0, 1.0])\n",
    "plt.ylim([0.0, 1.05])\n",
    "plt.xlabel('False Positive Rate',fontsize=16)\n",
    "plt.ylabel('True Positive Rate',fontsize=16)\n",
    "plt.title('Reduced Multi-Class ROC Curve',fontsize=20)\n",
    "plt.legend(loc=\"lower right\")\n",
    "plt.show()"
   ]
  },
  {
   "cell_type": "markdown",
   "metadata": {
    "colab_type": "text",
    "id": "P1q78ZUMAv4X"
   },
   "source": [
    "#### Observation \n",
    "Our model is much better at accurately separating Postive and Negative reviews than it is at separating more subjective Neutral reviews."
   ]
  },
  {
   "cell_type": "markdown",
   "metadata": {
    "colab_type": "text",
    "id": "lC_L5cXbLYLc"
   },
   "source": [
    "#### References \n",
    "https://arxiv.org/pdf/1511.08630.pdf\n",
    "<br>\n",
    "http://web2.cs.columbia.edu/~blei/seminar/2016_discrete_data/readings/MikolovSutskeverChenCorradoDean2013.pdf\n",
    "\n",
    "\n"
   ]
  },
  {
   "cell_type": "code",
   "execution_count": null,
   "metadata": {
    "colab": {},
    "colab_type": "code",
    "id": "gqN8DXiXLr9n"
   },
   "outputs": [],
   "source": []
  }
 ],
 "metadata": {
  "accelerator": "GPU",
  "colab": {
   "collapsed_sections": [],
   "name": "the_reboot_collab.ipynb",
   "provenance": []
  },
  "kernelspec": {
   "display_name": "Python 3",
   "language": "python",
   "name": "python3"
  },
  "language_info": {
   "codemirror_mode": {
    "name": "ipython",
    "version": 3
   },
   "file_extension": ".py",
   "mimetype": "text/x-python",
   "name": "python",
   "nbconvert_exporter": "python",
   "pygments_lexer": "ipython3",
   "version": "3.7.5"
  }
 },
 "nbformat": 4,
 "nbformat_minor": 4
}
